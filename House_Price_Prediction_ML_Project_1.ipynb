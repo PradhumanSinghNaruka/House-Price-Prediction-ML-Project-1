{
  "metadata": {
    "kernelspec": {
      "language": "python",
      "display_name": "Python 3",
      "name": "python3"
    },
    "language_info": {
      "name": "python",
      "version": "3.10.13",
      "mimetype": "text/x-python",
      "codemirror_mode": {
        "name": "ipython",
        "version": 3
      },
      "pygments_lexer": "ipython3",
      "nbconvert_exporter": "python",
      "file_extension": ".py"
    },
    "kaggle": {
      "accelerator": "none",
      "dataSources": [
        {
          "sourceId": 26737,
          "sourceType": "datasetVersion",
          "datasetId": 20710
        }
      ],
      "dockerImageVersionId": 30698,
      "isInternetEnabled": false,
      "language": "python",
      "sourceType": "notebook",
      "isGpuEnabled": false
    },
    "colab": {
      "provenance": [],
      "include_colab_link": true
    }
  },
  "nbformat_minor": 0,
  "nbformat": 4,
  "cells": [
    {
      "cell_type": "markdown",
      "metadata": {
        "id": "view-in-github",
        "colab_type": "text"
      },
      "source": [
        "<a href=\"https://colab.research.google.com/github/PradhumanSinghNaruka/House-Price-Prediction-ML-Project-1/blob/main/House_Price_Prediction_ML_Project_1.ipynb\" target=\"_parent\"><img src=\"https://colab.research.google.com/assets/colab-badge.svg\" alt=\"Open In Colab\"/></a>"
      ]
    },
    {
      "cell_type": "code",
      "source": [
        "# This Python 3 environment comes with many helpful analytics libraries installed\n",
        "# It is defined by the kaggle/python Docker image: https://github.com/kaggle/docker-python\n",
        "# For example, here's several helpful packages to load\n",
        "\n",
        "import numpy as np # linear algebra\n",
        "import pandas as pd # data processing, CSV file I/O (e.g. pd.read_csv)\n",
        "\n",
        "# Input data files are available in the read-only \"../input/\" directory\n",
        "# For example, running this (by clicking run or pressing Shift+Enter) will list all files under the input directory\n",
        "\n",
        "import os\n",
        "for dirname, _, filenames in os.walk('/kaggle/input'):\n",
        "    for filename in filenames:\n",
        "        print(os.path.join(dirname, filename))\n",
        "\n",
        "# You can write up to 20GB to the current directory (/kaggle/working/) that gets preserved as output when you create a version using \"Save & Run All\"\n",
        "# You can also write temporary files to /kaggle/temp/, but they won't be saved outside of the current session"
      ],
      "metadata": {
        "_uuid": "8f2839f25d086af736a60e9eeb907d3b93b6e0e5",
        "_cell_guid": "b1076dfc-b9ad-4769-8c92-a6c4dae69d19",
        "execution": {
          "iopub.status.busy": "2024-05-18T14:20:49.421278Z",
          "iopub.execute_input": "2024-05-18T14:20:49.422344Z",
          "iopub.status.idle": "2024-05-18T14:20:49.431274Z",
          "shell.execute_reply.started": "2024-05-18T14:20:49.422296Z",
          "shell.execute_reply": "2024-05-18T14:20:49.429809Z"
        },
        "trusted": true,
        "id": "klFDOuGAA2e6",
        "outputId": "2190f555-2154-497e-c805-d6b819b64deb"
      },
      "execution_count": null,
      "outputs": [
        {
          "name": "stdout",
          "text": "/kaggle/input/bengaluru-house-price-data/Bengaluru_House_Data.csv\n",
          "output_type": "stream"
        }
      ]
    },
    {
      "cell_type": "markdown",
      "source": [
        "# **House-Price-Prediction**"
      ],
      "metadata": {
        "id": "11iC_1j-A2e7"
      }
    },
    {
      "cell_type": "code",
      "source": [
        "import numpy as np\n",
        "import pandas as pd"
      ],
      "metadata": {
        "execution": {
          "iopub.status.busy": "2024-05-18T14:20:49.616138Z",
          "iopub.execute_input": "2024-05-18T14:20:49.616499Z",
          "iopub.status.idle": "2024-05-18T14:20:49.621952Z",
          "shell.execute_reply.started": "2024-05-18T14:20:49.616471Z",
          "shell.execute_reply": "2024-05-18T14:20:49.620661Z"
        },
        "trusted": true,
        "id": "Z_Vdk8niA2e9"
      },
      "execution_count": null,
      "outputs": []
    },
    {
      "cell_type": "markdown",
      "source": [
        "# **Read csv File**"
      ],
      "metadata": {
        "id": "EvAjwaLvA2e9"
      }
    },
    {
      "cell_type": "code",
      "source": [
        "data=pd.read_csv(\"/kaggle/input/bengaluru-house-price-data/Bengaluru_House_Data.csv\")"
      ],
      "metadata": {
        "execution": {
          "iopub.status.busy": "2024-05-18T14:20:49.743755Z",
          "iopub.execute_input": "2024-05-18T14:20:49.744275Z",
          "iopub.status.idle": "2024-05-18T14:20:49.812765Z",
          "shell.execute_reply.started": "2024-05-18T14:20:49.744232Z",
          "shell.execute_reply": "2024-05-18T14:20:49.811775Z"
        },
        "trusted": true,
        "id": "fIf5LOrfA2e-"
      },
      "execution_count": null,
      "outputs": []
    },
    {
      "cell_type": "code",
      "source": [
        "data.head()"
      ],
      "metadata": {
        "execution": {
          "iopub.status.busy": "2024-05-18T14:20:49.814644Z",
          "iopub.execute_input": "2024-05-18T14:20:49.815285Z",
          "iopub.status.idle": "2024-05-18T14:20:49.846028Z",
          "shell.execute_reply.started": "2024-05-18T14:20:49.815252Z",
          "shell.execute_reply": "2024-05-18T14:20:49.844844Z"
        },
        "trusted": true,
        "id": "NuUACnuZA2e-",
        "outputId": "47973f50-ba47-46db-f91d-3519cab2b3ab"
      },
      "execution_count": null,
      "outputs": [
        {
          "execution_count": 5,
          "output_type": "execute_result",
          "data": {
            "text/plain": "              area_type   availability                  location       size  \\\n0  Super built-up  Area         19-Dec  Electronic City Phase II      2 BHK   \n1            Plot  Area  Ready To Move          Chikka Tirupathi  4 Bedroom   \n2        Built-up  Area  Ready To Move               Uttarahalli      3 BHK   \n3  Super built-up  Area  Ready To Move        Lingadheeranahalli      3 BHK   \n4  Super built-up  Area  Ready To Move                  Kothanur      2 BHK   \n\n   society total_sqft  bath  balcony   price  \n0  Coomee        1056   2.0      1.0   39.07  \n1  Theanmp       2600   5.0      3.0  120.00  \n2      NaN       1440   2.0      3.0   62.00  \n3  Soiewre       1521   3.0      1.0   95.00  \n4      NaN       1200   2.0      1.0   51.00  ",
            "text/html": "<div>\n<style scoped>\n    .dataframe tbody tr th:only-of-type {\n        vertical-align: middle;\n    }\n\n    .dataframe tbody tr th {\n        vertical-align: top;\n    }\n\n    .dataframe thead th {\n        text-align: right;\n    }\n</style>\n<table border=\"1\" class=\"dataframe\">\n  <thead>\n    <tr style=\"text-align: right;\">\n      <th></th>\n      <th>area_type</th>\n      <th>availability</th>\n      <th>location</th>\n      <th>size</th>\n      <th>society</th>\n      <th>total_sqft</th>\n      <th>bath</th>\n      <th>balcony</th>\n      <th>price</th>\n    </tr>\n  </thead>\n  <tbody>\n    <tr>\n      <th>0</th>\n      <td>Super built-up  Area</td>\n      <td>19-Dec</td>\n      <td>Electronic City Phase II</td>\n      <td>2 BHK</td>\n      <td>Coomee</td>\n      <td>1056</td>\n      <td>2.0</td>\n      <td>1.0</td>\n      <td>39.07</td>\n    </tr>\n    <tr>\n      <th>1</th>\n      <td>Plot  Area</td>\n      <td>Ready To Move</td>\n      <td>Chikka Tirupathi</td>\n      <td>4 Bedroom</td>\n      <td>Theanmp</td>\n      <td>2600</td>\n      <td>5.0</td>\n      <td>3.0</td>\n      <td>120.00</td>\n    </tr>\n    <tr>\n      <th>2</th>\n      <td>Built-up  Area</td>\n      <td>Ready To Move</td>\n      <td>Uttarahalli</td>\n      <td>3 BHK</td>\n      <td>NaN</td>\n      <td>1440</td>\n      <td>2.0</td>\n      <td>3.0</td>\n      <td>62.00</td>\n    </tr>\n    <tr>\n      <th>3</th>\n      <td>Super built-up  Area</td>\n      <td>Ready To Move</td>\n      <td>Lingadheeranahalli</td>\n      <td>3 BHK</td>\n      <td>Soiewre</td>\n      <td>1521</td>\n      <td>3.0</td>\n      <td>1.0</td>\n      <td>95.00</td>\n    </tr>\n    <tr>\n      <th>4</th>\n      <td>Super built-up  Area</td>\n      <td>Ready To Move</td>\n      <td>Kothanur</td>\n      <td>2 BHK</td>\n      <td>NaN</td>\n      <td>1200</td>\n      <td>2.0</td>\n      <td>1.0</td>\n      <td>51.00</td>\n    </tr>\n  </tbody>\n</table>\n</div>"
          },
          "metadata": {}
        }
      ]
    },
    {
      "cell_type": "code",
      "source": [
        "data.tail()"
      ],
      "metadata": {
        "execution": {
          "iopub.status.busy": "2024-05-18T14:20:49.902334Z",
          "iopub.execute_input": "2024-05-18T14:20:49.903265Z",
          "iopub.status.idle": "2024-05-18T14:20:49.924582Z",
          "shell.execute_reply.started": "2024-05-18T14:20:49.903223Z",
          "shell.execute_reply": "2024-05-18T14:20:49.922991Z"
        },
        "trusted": true,
        "id": "0FNUqbTfA2e_",
        "outputId": "46532491-c2ba-4aab-d413-54c81d1c43fd"
      },
      "execution_count": null,
      "outputs": [
        {
          "execution_count": 6,
          "output_type": "execute_result",
          "data": {
            "text/plain": "                  area_type   availability               location       size  \\\n13315        Built-up  Area  Ready To Move             Whitefield  5 Bedroom   \n13316  Super built-up  Area  Ready To Move          Richards Town      4 BHK   \n13317        Built-up  Area  Ready To Move  Raja Rajeshwari Nagar      2 BHK   \n13318  Super built-up  Area         18-Jun        Padmanabhanagar      4 BHK   \n13319  Super built-up  Area  Ready To Move           Doddathoguru      1 BHK   \n\n       society total_sqft  bath  balcony  price  \n13315  ArsiaEx       3453   4.0      0.0  231.0  \n13316      NaN       3600   5.0      NaN  400.0  \n13317  Mahla T       1141   2.0      1.0   60.0  \n13318  SollyCl       4689   4.0      1.0  488.0  \n13319      NaN        550   1.0      1.0   17.0  ",
            "text/html": "<div>\n<style scoped>\n    .dataframe tbody tr th:only-of-type {\n        vertical-align: middle;\n    }\n\n    .dataframe tbody tr th {\n        vertical-align: top;\n    }\n\n    .dataframe thead th {\n        text-align: right;\n    }\n</style>\n<table border=\"1\" class=\"dataframe\">\n  <thead>\n    <tr style=\"text-align: right;\">\n      <th></th>\n      <th>area_type</th>\n      <th>availability</th>\n      <th>location</th>\n      <th>size</th>\n      <th>society</th>\n      <th>total_sqft</th>\n      <th>bath</th>\n      <th>balcony</th>\n      <th>price</th>\n    </tr>\n  </thead>\n  <tbody>\n    <tr>\n      <th>13315</th>\n      <td>Built-up  Area</td>\n      <td>Ready To Move</td>\n      <td>Whitefield</td>\n      <td>5 Bedroom</td>\n      <td>ArsiaEx</td>\n      <td>3453</td>\n      <td>4.0</td>\n      <td>0.0</td>\n      <td>231.0</td>\n    </tr>\n    <tr>\n      <th>13316</th>\n      <td>Super built-up  Area</td>\n      <td>Ready To Move</td>\n      <td>Richards Town</td>\n      <td>4 BHK</td>\n      <td>NaN</td>\n      <td>3600</td>\n      <td>5.0</td>\n      <td>NaN</td>\n      <td>400.0</td>\n    </tr>\n    <tr>\n      <th>13317</th>\n      <td>Built-up  Area</td>\n      <td>Ready To Move</td>\n      <td>Raja Rajeshwari Nagar</td>\n      <td>2 BHK</td>\n      <td>Mahla T</td>\n      <td>1141</td>\n      <td>2.0</td>\n      <td>1.0</td>\n      <td>60.0</td>\n    </tr>\n    <tr>\n      <th>13318</th>\n      <td>Super built-up  Area</td>\n      <td>18-Jun</td>\n      <td>Padmanabhanagar</td>\n      <td>4 BHK</td>\n      <td>SollyCl</td>\n      <td>4689</td>\n      <td>4.0</td>\n      <td>1.0</td>\n      <td>488.0</td>\n    </tr>\n    <tr>\n      <th>13319</th>\n      <td>Super built-up  Area</td>\n      <td>Ready To Move</td>\n      <td>Doddathoguru</td>\n      <td>1 BHK</td>\n      <td>NaN</td>\n      <td>550</td>\n      <td>1.0</td>\n      <td>1.0</td>\n      <td>17.0</td>\n    </tr>\n  </tbody>\n</table>\n</div>"
          },
          "metadata": {}
        }
      ]
    },
    {
      "cell_type": "code",
      "source": [
        "data.shape"
      ],
      "metadata": {
        "execution": {
          "iopub.status.busy": "2024-05-18T14:20:50.01558Z",
          "iopub.execute_input": "2024-05-18T14:20:50.016796Z",
          "iopub.status.idle": "2024-05-18T14:20:50.024755Z",
          "shell.execute_reply.started": "2024-05-18T14:20:50.016745Z",
          "shell.execute_reply": "2024-05-18T14:20:50.02338Z"
        },
        "trusted": true,
        "id": "e238W5dKA2fA",
        "outputId": "30c78270-2341-499b-e776-13ad1a30543a"
      },
      "execution_count": null,
      "outputs": [
        {
          "execution_count": 7,
          "output_type": "execute_result",
          "data": {
            "text/plain": "(13320, 9)"
          },
          "metadata": {}
        }
      ]
    },
    {
      "cell_type": "code",
      "source": [
        "data.info"
      ],
      "metadata": {
        "execution": {
          "iopub.status.busy": "2024-05-18T14:20:50.028902Z",
          "iopub.execute_input": "2024-05-18T14:20:50.029501Z",
          "iopub.status.idle": "2024-05-18T14:20:50.050705Z",
          "shell.execute_reply.started": "2024-05-18T14:20:50.029451Z",
          "shell.execute_reply": "2024-05-18T14:20:50.049549Z"
        },
        "trusted": true,
        "id": "O721v2F0A2fA",
        "outputId": "fe6aa85d-f2d6-430a-df90-092ae0350492"
      },
      "execution_count": null,
      "outputs": [
        {
          "execution_count": 8,
          "output_type": "execute_result",
          "data": {
            "text/plain": "<bound method DataFrame.info of                   area_type   availability                  location  \\\n0      Super built-up  Area         19-Dec  Electronic City Phase II   \n1                Plot  Area  Ready To Move          Chikka Tirupathi   \n2            Built-up  Area  Ready To Move               Uttarahalli   \n3      Super built-up  Area  Ready To Move        Lingadheeranahalli   \n4      Super built-up  Area  Ready To Move                  Kothanur   \n...                     ...            ...                       ...   \n13315        Built-up  Area  Ready To Move                Whitefield   \n13316  Super built-up  Area  Ready To Move             Richards Town   \n13317        Built-up  Area  Ready To Move     Raja Rajeshwari Nagar   \n13318  Super built-up  Area         18-Jun           Padmanabhanagar   \n13319  Super built-up  Area  Ready To Move              Doddathoguru   \n\n            size  society total_sqft  bath  balcony   price  \n0          2 BHK  Coomee        1056   2.0      1.0   39.07  \n1      4 Bedroom  Theanmp       2600   5.0      3.0  120.00  \n2          3 BHK      NaN       1440   2.0      3.0   62.00  \n3          3 BHK  Soiewre       1521   3.0      1.0   95.00  \n4          2 BHK      NaN       1200   2.0      1.0   51.00  \n...          ...      ...        ...   ...      ...     ...  \n13315  5 Bedroom  ArsiaEx       3453   4.0      0.0  231.00  \n13316      4 BHK      NaN       3600   5.0      NaN  400.00  \n13317      2 BHK  Mahla T       1141   2.0      1.0   60.00  \n13318      4 BHK  SollyCl       4689   4.0      1.0  488.00  \n13319      1 BHK      NaN        550   1.0      1.0   17.00  \n\n[13320 rows x 9 columns]>"
          },
          "metadata": {}
        },
        {
          "execution_count": 8,
          "output_type": "execute_result",
          "data": {
            "text/plain": "<bound method DataFrame.info of                   area_type   availability                  location  \\\n0      Super built-up  Area         19-Dec  Electronic City Phase II   \n1                Plot  Area  Ready To Move          Chikka Tirupathi   \n2            Built-up  Area  Ready To Move               Uttarahalli   \n3      Super built-up  Area  Ready To Move        Lingadheeranahalli   \n4      Super built-up  Area  Ready To Move                  Kothanur   \n...                     ...            ...                       ...   \n13315        Built-up  Area  Ready To Move                Whitefield   \n13316  Super built-up  Area  Ready To Move             Richards Town   \n13317        Built-up  Area  Ready To Move     Raja Rajeshwari Nagar   \n13318  Super built-up  Area         18-Jun           Padmanabhanagar   \n13319  Super built-up  Area  Ready To Move              Doddathoguru   \n\n            size  society total_sqft  bath  balcony   price  \n0          2 BHK  Coomee        1056   2.0      1.0   39.07  \n1      4 Bedroom  Theanmp       2600   5.0      3.0  120.00  \n2          3 BHK      NaN       1440   2.0      3.0   62.00  \n3          3 BHK  Soiewre       1521   3.0      1.0   95.00  \n4          2 BHK      NaN       1200   2.0      1.0   51.00  \n...          ...      ...        ...   ...      ...     ...  \n13315  5 Bedroom  ArsiaEx       3453   4.0      0.0  231.00  \n13316      4 BHK      NaN       3600   5.0      NaN  400.00  \n13317      2 BHK  Mahla T       1141   2.0      1.0   60.00  \n13318      4 BHK  SollyCl       4689   4.0      1.0  488.00  \n13319      1 BHK      NaN        550   1.0      1.0   17.00  \n\n[13320 rows x 9 columns]>"
          },
          "metadata": {}
        }
      ]
    },
    {
      "cell_type": "code",
      "source": [
        "data.isna().sum()"
      ],
      "metadata": {
        "execution": {
          "iopub.status.busy": "2024-05-18T14:20:50.053668Z",
          "iopub.execute_input": "2024-05-18T14:20:50.05453Z",
          "iopub.status.idle": "2024-05-18T14:20:50.073363Z",
          "shell.execute_reply.started": "2024-05-18T14:20:50.054485Z",
          "shell.execute_reply": "2024-05-18T14:20:50.072298Z"
        },
        "trusted": true,
        "id": "1RsFTE7NA2fA",
        "outputId": "55eb7167-1cd3-49b2-f8b9-695e5ad53b25"
      },
      "execution_count": null,
      "outputs": [
        {
          "execution_count": 9,
          "output_type": "execute_result",
          "data": {
            "text/plain": "area_type          0\navailability       0\nlocation           1\nsize              16\nsociety         5502\ntotal_sqft         0\nbath              73\nbalcony          609\nprice              0\ndtype: int64"
          },
          "metadata": {}
        }
      ]
    },
    {
      "cell_type": "markdown",
      "source": [
        "# **Drop Down the Useless Columns**"
      ],
      "metadata": {
        "id": "8MeGzOryA2fB"
      }
    },
    {
      "cell_type": "code",
      "source": [
        "data=data.drop(columns=['area_type', 'availability', 'society', 'balcony'])"
      ],
      "metadata": {
        "execution": {
          "iopub.status.busy": "2024-05-18T14:20:50.075018Z",
          "iopub.execute_input": "2024-05-18T14:20:50.075635Z",
          "iopub.status.idle": "2024-05-18T14:20:50.084789Z",
          "shell.execute_reply.started": "2024-05-18T14:20:50.075595Z",
          "shell.execute_reply": "2024-05-18T14:20:50.08349Z"
        },
        "trusted": true,
        "id": "-3dBQB9QA2fB"
      },
      "execution_count": null,
      "outputs": []
    },
    {
      "cell_type": "code",
      "source": [
        "data.head()"
      ],
      "metadata": {
        "execution": {
          "iopub.status.busy": "2024-05-18T14:20:50.087533Z",
          "iopub.execute_input": "2024-05-18T14:20:50.088256Z",
          "iopub.status.idle": "2024-05-18T14:20:50.10217Z",
          "shell.execute_reply.started": "2024-05-18T14:20:50.088222Z",
          "shell.execute_reply": "2024-05-18T14:20:50.101331Z"
        },
        "trusted": true,
        "id": "RjuFUj1fA2fB",
        "outputId": "bb1bdcf3-eca6-4cb1-a8be-fdec22de658c"
      },
      "execution_count": null,
      "outputs": [
        {
          "execution_count": 11,
          "output_type": "execute_result",
          "data": {
            "text/plain": "                   location       size total_sqft  bath   price\n0  Electronic City Phase II      2 BHK       1056   2.0   39.07\n1          Chikka Tirupathi  4 Bedroom       2600   5.0  120.00\n2               Uttarahalli      3 BHK       1440   2.0   62.00\n3        Lingadheeranahalli      3 BHK       1521   3.0   95.00\n4                  Kothanur      2 BHK       1200   2.0   51.00",
            "text/html": "<div>\n<style scoped>\n    .dataframe tbody tr th:only-of-type {\n        vertical-align: middle;\n    }\n\n    .dataframe tbody tr th {\n        vertical-align: top;\n    }\n\n    .dataframe thead th {\n        text-align: right;\n    }\n</style>\n<table border=\"1\" class=\"dataframe\">\n  <thead>\n    <tr style=\"text-align: right;\">\n      <th></th>\n      <th>location</th>\n      <th>size</th>\n      <th>total_sqft</th>\n      <th>bath</th>\n      <th>price</th>\n    </tr>\n  </thead>\n  <tbody>\n    <tr>\n      <th>0</th>\n      <td>Electronic City Phase II</td>\n      <td>2 BHK</td>\n      <td>1056</td>\n      <td>2.0</td>\n      <td>39.07</td>\n    </tr>\n    <tr>\n      <th>1</th>\n      <td>Chikka Tirupathi</td>\n      <td>4 Bedroom</td>\n      <td>2600</td>\n      <td>5.0</td>\n      <td>120.00</td>\n    </tr>\n    <tr>\n      <th>2</th>\n      <td>Uttarahalli</td>\n      <td>3 BHK</td>\n      <td>1440</td>\n      <td>2.0</td>\n      <td>62.00</td>\n    </tr>\n    <tr>\n      <th>3</th>\n      <td>Lingadheeranahalli</td>\n      <td>3 BHK</td>\n      <td>1521</td>\n      <td>3.0</td>\n      <td>95.00</td>\n    </tr>\n    <tr>\n      <th>4</th>\n      <td>Kothanur</td>\n      <td>2 BHK</td>\n      <td>1200</td>\n      <td>2.0</td>\n      <td>51.00</td>\n    </tr>\n  </tbody>\n</table>\n</div>"
          },
          "metadata": {}
        }
      ]
    },
    {
      "cell_type": "code",
      "source": [
        "data.describe()"
      ],
      "metadata": {
        "execution": {
          "iopub.status.busy": "2024-05-18T14:21:02.656726Z",
          "iopub.execute_input": "2024-05-18T14:21:02.657292Z",
          "iopub.status.idle": "2024-05-18T14:21:02.685094Z",
          "shell.execute_reply.started": "2024-05-18T14:21:02.657249Z",
          "shell.execute_reply": "2024-05-18T14:21:02.683676Z"
        },
        "trusted": true,
        "id": "GQbgLwShA2fB",
        "outputId": "3b914ee3-14f1-4c90-edc7-89968194590a"
      },
      "execution_count": null,
      "outputs": [
        {
          "execution_count": 12,
          "output_type": "execute_result",
          "data": {
            "text/plain": "               bath         price\ncount  13247.000000  13320.000000\nmean       2.692610    112.565627\nstd        1.341458    148.971674\nmin        1.000000      8.000000\n25%        2.000000     50.000000\n50%        2.000000     72.000000\n75%        3.000000    120.000000\nmax       40.000000   3600.000000",
            "text/html": "<div>\n<style scoped>\n    .dataframe tbody tr th:only-of-type {\n        vertical-align: middle;\n    }\n\n    .dataframe tbody tr th {\n        vertical-align: top;\n    }\n\n    .dataframe thead th {\n        text-align: right;\n    }\n</style>\n<table border=\"1\" class=\"dataframe\">\n  <thead>\n    <tr style=\"text-align: right;\">\n      <th></th>\n      <th>bath</th>\n      <th>price</th>\n    </tr>\n  </thead>\n  <tbody>\n    <tr>\n      <th>count</th>\n      <td>13247.000000</td>\n      <td>13320.000000</td>\n    </tr>\n    <tr>\n      <th>mean</th>\n      <td>2.692610</td>\n      <td>112.565627</td>\n    </tr>\n    <tr>\n      <th>std</th>\n      <td>1.341458</td>\n      <td>148.971674</td>\n    </tr>\n    <tr>\n      <th>min</th>\n      <td>1.000000</td>\n      <td>8.000000</td>\n    </tr>\n    <tr>\n      <th>25%</th>\n      <td>2.000000</td>\n      <td>50.000000</td>\n    </tr>\n    <tr>\n      <th>50%</th>\n      <td>2.000000</td>\n      <td>72.000000</td>\n    </tr>\n    <tr>\n      <th>75%</th>\n      <td>3.000000</td>\n      <td>120.000000</td>\n    </tr>\n    <tr>\n      <th>max</th>\n      <td>40.000000</td>\n      <td>3600.000000</td>\n    </tr>\n  </tbody>\n</table>\n</div>"
          },
          "metadata": {}
        }
      ]
    },
    {
      "cell_type": "code",
      "source": [
        "data.shape"
      ],
      "metadata": {
        "execution": {
          "iopub.status.busy": "2024-05-18T14:21:09.562092Z",
          "iopub.execute_input": "2024-05-18T14:21:09.562639Z",
          "iopub.status.idle": "2024-05-18T14:21:09.57254Z",
          "shell.execute_reply.started": "2024-05-18T14:21:09.562595Z",
          "shell.execute_reply": "2024-05-18T14:21:09.571033Z"
        },
        "trusted": true,
        "id": "niHvQZANA2fB",
        "outputId": "eb68dbe2-2348-4de7-ada6-eb430dd22a9f"
      },
      "execution_count": null,
      "outputs": [
        {
          "execution_count": 13,
          "output_type": "execute_result",
          "data": {
            "text/plain": "(13320, 5)"
          },
          "metadata": {}
        }
      ]
    },
    {
      "cell_type": "code",
      "source": [
        "data.isna().sum()"
      ],
      "metadata": {
        "execution": {
          "iopub.status.busy": "2024-05-18T14:21:15.265902Z",
          "iopub.execute_input": "2024-05-18T14:21:15.266408Z",
          "iopub.status.idle": "2024-05-18T14:21:15.283162Z",
          "shell.execute_reply.started": "2024-05-18T14:21:15.266372Z",
          "shell.execute_reply": "2024-05-18T14:21:15.281592Z"
        },
        "trusted": true,
        "id": "6Uk6pSZSA2fC",
        "outputId": "86af715b-92b2-4eea-a8e7-3e479f0f9b2a"
      },
      "execution_count": null,
      "outputs": [
        {
          "execution_count": 14,
          "output_type": "execute_result",
          "data": {
            "text/plain": "location       1\nsize          16\ntotal_sqft     0\nbath          73\nprice          0\ndtype: int64"
          },
          "metadata": {}
        }
      ]
    },
    {
      "cell_type": "code",
      "source": [
        "data['location'].value_counts()"
      ],
      "metadata": {
        "execution": {
          "iopub.status.busy": "2024-05-18T14:21:19.013921Z",
          "iopub.execute_input": "2024-05-18T14:21:19.014401Z",
          "iopub.status.idle": "2024-05-18T14:21:19.032446Z",
          "shell.execute_reply.started": "2024-05-18T14:21:19.014367Z",
          "shell.execute_reply": "2024-05-18T14:21:19.031237Z"
        },
        "trusted": true,
        "id": "V9lTJSWqA2fC",
        "outputId": "7d4c3404-8ade-4191-e23a-abb363ec5431"
      },
      "execution_count": null,
      "outputs": [
        {
          "execution_count": 15,
          "output_type": "execute_result",
          "data": {
            "text/plain": "location\nWhitefield                        540\nSarjapur  Road                    399\nElectronic City                   302\nKanakpura Road                    273\nThanisandra                       234\n                                 ... \nBapuji Layout                       1\n1st Stage Radha Krishna Layout      1\nBEML Layout 5th stage               1\nsingapura paradise                  1\nAbshot Layout                       1\nName: count, Length: 1305, dtype: int64"
          },
          "metadata": {}
        }
      ]
    },
    {
      "cell_type": "markdown",
      "source": [
        "# **Fill the Empty Rows**"
      ],
      "metadata": {
        "id": "5Q-UFdGOA2fC"
      }
    },
    {
      "cell_type": "code",
      "source": [
        "data['location'] = data['location'].fillna('Sarjapur Road')"
      ],
      "metadata": {
        "execution": {
          "iopub.status.busy": "2024-05-18T14:21:26.786774Z",
          "iopub.execute_input": "2024-05-18T14:21:26.787279Z",
          "iopub.status.idle": "2024-05-18T14:21:26.797681Z",
          "shell.execute_reply.started": "2024-05-18T14:21:26.787241Z",
          "shell.execute_reply": "2024-05-18T14:21:26.796163Z"
        },
        "trusted": true,
        "id": "ir3fU1VOA2fC"
      },
      "execution_count": null,
      "outputs": []
    },
    {
      "cell_type": "code",
      "source": [
        "data['size'].value_counts()"
      ],
      "metadata": {
        "execution": {
          "iopub.status.busy": "2024-05-18T14:21:31.733402Z",
          "iopub.execute_input": "2024-05-18T14:21:31.733975Z",
          "iopub.status.idle": "2024-05-18T14:21:31.749385Z",
          "shell.execute_reply.started": "2024-05-18T14:21:31.733918Z",
          "shell.execute_reply": "2024-05-18T14:21:31.748172Z"
        },
        "trusted": true,
        "id": "2rLaiCACA2fC",
        "outputId": "4cce6da5-c1d0-4d9c-bd08-0d476ad6e119"
      },
      "execution_count": null,
      "outputs": [
        {
          "execution_count": 17,
          "output_type": "execute_result",
          "data": {
            "text/plain": "size\n2 BHK         5199\n3 BHK         4310\n4 Bedroom      826\n4 BHK          591\n3 Bedroom      547\n1 BHK          538\n2 Bedroom      329\n5 Bedroom      297\n6 Bedroom      191\n1 Bedroom      105\n8 Bedroom       84\n7 Bedroom       83\n5 BHK           59\n9 Bedroom       46\n6 BHK           30\n7 BHK           17\n1 RK            13\n10 Bedroom      12\n9 BHK            8\n8 BHK            5\n11 BHK           2\n11 Bedroom       2\n10 BHK           2\n14 BHK           1\n13 BHK           1\n12 Bedroom       1\n27 BHK           1\n43 Bedroom       1\n16 BHK           1\n19 BHK           1\n18 Bedroom       1\nName: count, dtype: int64"
          },
          "metadata": {}
        }
      ]
    },
    {
      "cell_type": "code",
      "source": [
        "data['size']=data['size'].fillna('2 bhk')"
      ],
      "metadata": {
        "execution": {
          "iopub.status.busy": "2024-05-18T14:21:36.029779Z",
          "iopub.execute_input": "2024-05-18T14:21:36.030284Z",
          "iopub.status.idle": "2024-05-18T14:21:36.038594Z",
          "shell.execute_reply.started": "2024-05-18T14:21:36.030248Z",
          "shell.execute_reply": "2024-05-18T14:21:36.037406Z"
        },
        "trusted": true,
        "id": "4kT48zsDA2fC"
      },
      "execution_count": null,
      "outputs": []
    },
    {
      "cell_type": "code",
      "source": [
        "data['bath'].value_counts()"
      ],
      "metadata": {
        "execution": {
          "iopub.status.busy": "2024-05-18T14:21:39.072495Z",
          "iopub.execute_input": "2024-05-18T14:21:39.073004Z",
          "iopub.status.idle": "2024-05-18T14:21:39.088114Z",
          "shell.execute_reply.started": "2024-05-18T14:21:39.072954Z",
          "shell.execute_reply": "2024-05-18T14:21:39.086517Z"
        },
        "trusted": true,
        "id": "ndeWNsSKA2fC",
        "outputId": "015adaf0-4aeb-4756-cb6c-4039c17765b6"
      },
      "execution_count": null,
      "outputs": [
        {
          "execution_count": 19,
          "output_type": "execute_result",
          "data": {
            "text/plain": "bath\n2.0     6908\n3.0     3286\n4.0     1226\n1.0      788\n5.0      524\n6.0      273\n7.0      102\n8.0       64\n9.0       43\n10.0      13\n12.0       7\n13.0       3\n11.0       3\n16.0       2\n27.0       1\n40.0       1\n15.0       1\n14.0       1\n18.0       1\nName: count, dtype: int64"
          },
          "metadata": {}
        }
      ]
    },
    {
      "cell_type": "code",
      "source": [
        "data['bath'] = data['bath'].fillna(data['bath'].median())"
      ],
      "metadata": {
        "execution": {
          "iopub.status.busy": "2024-05-18T14:21:41.550079Z",
          "iopub.execute_input": "2024-05-18T14:21:41.550521Z",
          "iopub.status.idle": "2024-05-18T14:21:41.559606Z",
          "shell.execute_reply.started": "2024-05-18T14:21:41.550489Z",
          "shell.execute_reply": "2024-05-18T14:21:41.558297Z"
        },
        "trusted": true,
        "id": "DfeYDMDhA2fC"
      },
      "execution_count": null,
      "outputs": []
    },
    {
      "cell_type": "markdown",
      "source": [
        "**All the Rows are FillUp**"
      ],
      "metadata": {
        "id": "Ji4uN8MtA2fD"
      }
    },
    {
      "cell_type": "code",
      "source": [
        "data.isna().sum()"
      ],
      "metadata": {
        "execution": {
          "iopub.status.busy": "2024-05-18T14:21:44.314102Z",
          "iopub.execute_input": "2024-05-18T14:21:44.31476Z",
          "iopub.status.idle": "2024-05-18T14:21:44.329735Z",
          "shell.execute_reply.started": "2024-05-18T14:21:44.314725Z",
          "shell.execute_reply": "2024-05-18T14:21:44.328783Z"
        },
        "trusted": true,
        "id": "TdhuQ8TrA2fD",
        "outputId": "f71103ea-e713-477e-bbac-d968b9dd9b66"
      },
      "execution_count": null,
      "outputs": [
        {
          "execution_count": 21,
          "output_type": "execute_result",
          "data": {
            "text/plain": "location      0\nsize          0\ntotal_sqft    0\nbath          0\nprice         0\ndtype: int64"
          },
          "metadata": {}
        }
      ]
    },
    {
      "cell_type": "code",
      "source": [
        "data.info()"
      ],
      "metadata": {
        "execution": {
          "iopub.status.busy": "2024-05-18T14:21:46.386072Z",
          "iopub.execute_input": "2024-05-18T14:21:46.387527Z",
          "iopub.status.idle": "2024-05-18T14:21:46.409862Z",
          "shell.execute_reply.started": "2024-05-18T14:21:46.38748Z",
          "shell.execute_reply": "2024-05-18T14:21:46.408395Z"
        },
        "trusted": true,
        "id": "lbZkC-5nA2fD",
        "outputId": "7146d97d-edfd-4d44-c872-1d821850ff0c"
      },
      "execution_count": null,
      "outputs": [
        {
          "name": "stdout",
          "text": "<class 'pandas.core.frame.DataFrame'>\nRangeIndex: 13320 entries, 0 to 13319\nData columns (total 5 columns):\n #   Column      Non-Null Count  Dtype  \n---  ------      --------------  -----  \n 0   location    13320 non-null  object \n 1   size        13320 non-null  object \n 2   total_sqft  13320 non-null  object \n 3   bath        13320 non-null  float64\n 4   price       13320 non-null  float64\ndtypes: float64(2), object(3)\nmemory usage: 520.4+ KB\n",
          "output_type": "stream"
        }
      ]
    },
    {
      "cell_type": "markdown",
      "source": [
        "**Extracts the numeric part from the 'size' column **"
      ],
      "metadata": {
        "id": "jaObjatyA2fD"
      }
    },
    {
      "cell_type": "code",
      "source": [
        "data['bhk']=data['size'].str.split().str.get(0).astype(int)"
      ],
      "metadata": {
        "execution": {
          "iopub.status.busy": "2024-05-18T14:21:48.36491Z",
          "iopub.execute_input": "2024-05-18T14:21:48.366227Z",
          "iopub.status.idle": "2024-05-18T14:21:48.398868Z",
          "shell.execute_reply.started": "2024-05-18T14:21:48.366186Z",
          "shell.execute_reply": "2024-05-18T14:21:48.397518Z"
        },
        "trusted": true,
        "id": "sqxERwmaA2fD"
      },
      "execution_count": null,
      "outputs": []
    },
    {
      "cell_type": "code",
      "source": [
        "data[data.bhk>20]"
      ],
      "metadata": {
        "execution": {
          "iopub.status.busy": "2024-05-18T14:21:51.15643Z",
          "iopub.execute_input": "2024-05-18T14:21:51.156868Z",
          "iopub.status.idle": "2024-05-18T14:21:51.173752Z",
          "shell.execute_reply.started": "2024-05-18T14:21:51.156836Z",
          "shell.execute_reply": "2024-05-18T14:21:51.172505Z"
        },
        "trusted": true,
        "id": "dARzjVRyA2fD",
        "outputId": "f318edce-9adf-4f92-9322-26b2af904063"
      },
      "execution_count": null,
      "outputs": [
        {
          "execution_count": 24,
          "output_type": "execute_result",
          "data": {
            "text/plain": "                       location        size total_sqft  bath  price  bhk\n1718  2Electronic City Phase II      27 BHK       8000  27.0  230.0   27\n4684                Munnekollal  43 Bedroom       2400  40.0  660.0   43",
            "text/html": "<div>\n<style scoped>\n    .dataframe tbody tr th:only-of-type {\n        vertical-align: middle;\n    }\n\n    .dataframe tbody tr th {\n        vertical-align: top;\n    }\n\n    .dataframe thead th {\n        text-align: right;\n    }\n</style>\n<table border=\"1\" class=\"dataframe\">\n  <thead>\n    <tr style=\"text-align: right;\">\n      <th></th>\n      <th>location</th>\n      <th>size</th>\n      <th>total_sqft</th>\n      <th>bath</th>\n      <th>price</th>\n      <th>bhk</th>\n    </tr>\n  </thead>\n  <tbody>\n    <tr>\n      <th>1718</th>\n      <td>2Electronic City Phase II</td>\n      <td>27 BHK</td>\n      <td>8000</td>\n      <td>27.0</td>\n      <td>230.0</td>\n      <td>27</td>\n    </tr>\n    <tr>\n      <th>4684</th>\n      <td>Munnekollal</td>\n      <td>43 Bedroom</td>\n      <td>2400</td>\n      <td>40.0</td>\n      <td>660.0</td>\n      <td>43</td>\n    </tr>\n  </tbody>\n</table>\n</div>"
          },
          "metadata": {}
        }
      ]
    },
    {
      "cell_type": "code",
      "source": [
        "data['total_sqft'].unique()"
      ],
      "metadata": {
        "execution": {
          "iopub.status.busy": "2024-05-18T14:21:53.533411Z",
          "iopub.execute_input": "2024-05-18T14:21:53.53395Z",
          "iopub.status.idle": "2024-05-18T14:21:53.544826Z",
          "shell.execute_reply.started": "2024-05-18T14:21:53.533911Z",
          "shell.execute_reply": "2024-05-18T14:21:53.543337Z"
        },
        "trusted": true,
        "id": "icXWuTohA2fD",
        "outputId": "ca85cad4-55a7-44db-82f2-a25e7f5cfe74"
      },
      "execution_count": null,
      "outputs": [
        {
          "execution_count": 25,
          "output_type": "execute_result",
          "data": {
            "text/plain": "array(['1056', '2600', '1440', ..., '1133 - 1384', '774', '4689'],\n      dtype=object)"
          },
          "metadata": {}
        }
      ]
    },
    {
      "cell_type": "markdown",
      "source": [
        "**checks if there are two elements in the list, calculates the average of those two elements **"
      ],
      "metadata": {
        "id": "uVA6p2vFA2fD"
      }
    },
    {
      "cell_type": "code",
      "source": [
        "def convertRange(x):\n",
        "    temp=x.split('-')\n",
        "    if len(temp)==2:\n",
        "        return(float(temp[0])+float(temp[1]))/2\n",
        "    try:\n",
        "        return float(x)\n",
        "    except:\n",
        "        return None"
      ],
      "metadata": {
        "execution": {
          "iopub.status.busy": "2024-05-18T14:22:01.076396Z",
          "iopub.execute_input": "2024-05-18T14:22:01.077274Z",
          "iopub.status.idle": "2024-05-18T14:22:01.08292Z",
          "shell.execute_reply.started": "2024-05-18T14:22:01.077238Z",
          "shell.execute_reply": "2024-05-18T14:22:01.082032Z"
        },
        "trusted": true,
        "id": "4l5JfO5CA2fD"
      },
      "execution_count": null,
      "outputs": []
    },
    {
      "cell_type": "code",
      "source": [
        "data['total_sqft']=data['total_sqft'].apply(convertRange)"
      ],
      "metadata": {
        "execution": {
          "iopub.status.busy": "2024-05-18T14:22:05.51455Z",
          "iopub.execute_input": "2024-05-18T14:22:05.514951Z",
          "iopub.status.idle": "2024-05-18T14:22:05.534384Z",
          "shell.execute_reply.started": "2024-05-18T14:22:05.51492Z",
          "shell.execute_reply": "2024-05-18T14:22:05.532716Z"
        },
        "trusted": true,
        "id": "JyY6xgNIA2fE"
      },
      "execution_count": null,
      "outputs": []
    },
    {
      "cell_type": "code",
      "source": [
        "data['total_sqft'].unique()"
      ],
      "metadata": {
        "execution": {
          "iopub.status.busy": "2024-05-18T14:22:07.939889Z",
          "iopub.execute_input": "2024-05-18T14:22:07.940823Z",
          "iopub.status.idle": "2024-05-18T14:22:07.951814Z",
          "shell.execute_reply.started": "2024-05-18T14:22:07.940784Z",
          "shell.execute_reply": "2024-05-18T14:22:07.950471Z"
        },
        "trusted": true,
        "id": "t6IU3YC4A2fE",
        "outputId": "e3891438-2fef-419a-a37f-890c504b7dce"
      },
      "execution_count": null,
      "outputs": [
        {
          "execution_count": 28,
          "output_type": "execute_result",
          "data": {
            "text/plain": "array([1056. , 2600. , 1440. , ..., 1258.5,  774. , 4689. ])"
          },
          "metadata": {}
        }
      ]
    },
    {
      "cell_type": "code",
      "source": [
        "data.head()"
      ],
      "metadata": {
        "execution": {
          "iopub.status.busy": "2024-05-18T14:22:10.180175Z",
          "iopub.execute_input": "2024-05-18T14:22:10.180559Z",
          "iopub.status.idle": "2024-05-18T14:22:10.195869Z",
          "shell.execute_reply.started": "2024-05-18T14:22:10.180532Z",
          "shell.execute_reply": "2024-05-18T14:22:10.19481Z"
        },
        "trusted": true,
        "id": "KrLfSsTGA2fE",
        "outputId": "80f60519-60be-408c-bc95-50dc54154210"
      },
      "execution_count": null,
      "outputs": [
        {
          "execution_count": 29,
          "output_type": "execute_result",
          "data": {
            "text/plain": "                   location       size  total_sqft  bath   price  bhk\n0  Electronic City Phase II      2 BHK      1056.0   2.0   39.07    2\n1          Chikka Tirupathi  4 Bedroom      2600.0   5.0  120.00    4\n2               Uttarahalli      3 BHK      1440.0   2.0   62.00    3\n3        Lingadheeranahalli      3 BHK      1521.0   3.0   95.00    3\n4                  Kothanur      2 BHK      1200.0   2.0   51.00    2",
            "text/html": "<div>\n<style scoped>\n    .dataframe tbody tr th:only-of-type {\n        vertical-align: middle;\n    }\n\n    .dataframe tbody tr th {\n        vertical-align: top;\n    }\n\n    .dataframe thead th {\n        text-align: right;\n    }\n</style>\n<table border=\"1\" class=\"dataframe\">\n  <thead>\n    <tr style=\"text-align: right;\">\n      <th></th>\n      <th>location</th>\n      <th>size</th>\n      <th>total_sqft</th>\n      <th>bath</th>\n      <th>price</th>\n      <th>bhk</th>\n    </tr>\n  </thead>\n  <tbody>\n    <tr>\n      <th>0</th>\n      <td>Electronic City Phase II</td>\n      <td>2 BHK</td>\n      <td>1056.0</td>\n      <td>2.0</td>\n      <td>39.07</td>\n      <td>2</td>\n    </tr>\n    <tr>\n      <th>1</th>\n      <td>Chikka Tirupathi</td>\n      <td>4 Bedroom</td>\n      <td>2600.0</td>\n      <td>5.0</td>\n      <td>120.00</td>\n      <td>4</td>\n    </tr>\n    <tr>\n      <th>2</th>\n      <td>Uttarahalli</td>\n      <td>3 BHK</td>\n      <td>1440.0</td>\n      <td>2.0</td>\n      <td>62.00</td>\n      <td>3</td>\n    </tr>\n    <tr>\n      <th>3</th>\n      <td>Lingadheeranahalli</td>\n      <td>3 BHK</td>\n      <td>1521.0</td>\n      <td>3.0</td>\n      <td>95.00</td>\n      <td>3</td>\n    </tr>\n    <tr>\n      <th>4</th>\n      <td>Kothanur</td>\n      <td>2 BHK</td>\n      <td>1200.0</td>\n      <td>2.0</td>\n      <td>51.00</td>\n      <td>2</td>\n    </tr>\n  </tbody>\n</table>\n</div>"
          },
          "metadata": {}
        }
      ]
    },
    {
      "cell_type": "code",
      "source": [
        "data['price_per_square_feet']=data['price']*100000/data['total_sqft']"
      ],
      "metadata": {
        "execution": {
          "iopub.status.busy": "2024-05-18T14:22:13.131661Z",
          "iopub.execute_input": "2024-05-18T14:22:13.133045Z",
          "iopub.status.idle": "2024-05-18T14:22:13.140582Z",
          "shell.execute_reply.started": "2024-05-18T14:22:13.133006Z",
          "shell.execute_reply": "2024-05-18T14:22:13.139121Z"
        },
        "trusted": true,
        "id": "H17ImkNgA2fE"
      },
      "execution_count": null,
      "outputs": []
    },
    {
      "cell_type": "code",
      "source": [
        "data['price_per_square_feet']"
      ],
      "metadata": {
        "execution": {
          "iopub.status.busy": "2024-05-18T14:22:15.295102Z",
          "iopub.execute_input": "2024-05-18T14:22:15.295495Z",
          "iopub.status.idle": "2024-05-18T14:22:15.306448Z",
          "shell.execute_reply.started": "2024-05-18T14:22:15.295465Z",
          "shell.execute_reply": "2024-05-18T14:22:15.305027Z"
        },
        "trusted": true,
        "id": "z5Muao02A2fE",
        "outputId": "e4d5d19f-26b8-4b69-e279-bf4dbeccd066"
      },
      "execution_count": null,
      "outputs": [
        {
          "execution_count": 31,
          "output_type": "execute_result",
          "data": {
            "text/plain": "0         3699.810606\n1         4615.384615\n2         4305.555556\n3         6245.890861\n4         4250.000000\n             ...     \n13315     6689.834926\n13316    11111.111111\n13317     5258.545136\n13318    10407.336319\n13319     3090.909091\nName: price_per_square_feet, Length: 13320, dtype: float64"
          },
          "metadata": {}
        }
      ]
    },
    {
      "cell_type": "code",
      "source": [
        "data.describe()"
      ],
      "metadata": {
        "execution": {
          "iopub.status.busy": "2024-05-18T14:22:20.32616Z",
          "iopub.execute_input": "2024-05-18T14:22:20.326589Z",
          "iopub.status.idle": "2024-05-18T14:22:20.360394Z",
          "shell.execute_reply.started": "2024-05-18T14:22:20.326559Z",
          "shell.execute_reply": "2024-05-18T14:22:20.35925Z"
        },
        "trusted": true,
        "id": "A_QIaLV1A2fE",
        "outputId": "5e00fb72-53b9-4008-f80f-e0b01064d8a4"
      },
      "execution_count": null,
      "outputs": [
        {
          "execution_count": 32,
          "output_type": "execute_result",
          "data": {
            "text/plain": "         total_sqft          bath         price           bhk  \\\ncount  13274.000000  13320.000000  13320.000000  13320.000000   \nmean    1559.626694      2.688814    112.565627      2.802778   \nstd     1238.405258      1.338754    148.971674      1.294496   \nmin        1.000000      1.000000      8.000000      1.000000   \n25%     1100.000000      2.000000     50.000000      2.000000   \n50%     1276.000000      2.000000     72.000000      3.000000   \n75%     1680.000000      3.000000    120.000000      3.000000   \nmax    52272.000000     40.000000   3600.000000     43.000000   \n\n       price_per_square_feet  \ncount           1.327400e+04  \nmean            7.907501e+03  \nstd             1.064296e+05  \nmin             2.678298e+02  \n25%             4.266865e+03  \n50%             5.434306e+03  \n75%             7.311746e+03  \nmax             1.200000e+07  ",
            "text/html": "<div>\n<style scoped>\n    .dataframe tbody tr th:only-of-type {\n        vertical-align: middle;\n    }\n\n    .dataframe tbody tr th {\n        vertical-align: top;\n    }\n\n    .dataframe thead th {\n        text-align: right;\n    }\n</style>\n<table border=\"1\" class=\"dataframe\">\n  <thead>\n    <tr style=\"text-align: right;\">\n      <th></th>\n      <th>total_sqft</th>\n      <th>bath</th>\n      <th>price</th>\n      <th>bhk</th>\n      <th>price_per_square_feet</th>\n    </tr>\n  </thead>\n  <tbody>\n    <tr>\n      <th>count</th>\n      <td>13274.000000</td>\n      <td>13320.000000</td>\n      <td>13320.000000</td>\n      <td>13320.000000</td>\n      <td>1.327400e+04</td>\n    </tr>\n    <tr>\n      <th>mean</th>\n      <td>1559.626694</td>\n      <td>2.688814</td>\n      <td>112.565627</td>\n      <td>2.802778</td>\n      <td>7.907501e+03</td>\n    </tr>\n    <tr>\n      <th>std</th>\n      <td>1238.405258</td>\n      <td>1.338754</td>\n      <td>148.971674</td>\n      <td>1.294496</td>\n      <td>1.064296e+05</td>\n    </tr>\n    <tr>\n      <th>min</th>\n      <td>1.000000</td>\n      <td>1.000000</td>\n      <td>8.000000</td>\n      <td>1.000000</td>\n      <td>2.678298e+02</td>\n    </tr>\n    <tr>\n      <th>25%</th>\n      <td>1100.000000</td>\n      <td>2.000000</td>\n      <td>50.000000</td>\n      <td>2.000000</td>\n      <td>4.266865e+03</td>\n    </tr>\n    <tr>\n      <th>50%</th>\n      <td>1276.000000</td>\n      <td>2.000000</td>\n      <td>72.000000</td>\n      <td>3.000000</td>\n      <td>5.434306e+03</td>\n    </tr>\n    <tr>\n      <th>75%</th>\n      <td>1680.000000</td>\n      <td>3.000000</td>\n      <td>120.000000</td>\n      <td>3.000000</td>\n      <td>7.311746e+03</td>\n    </tr>\n    <tr>\n      <th>max</th>\n      <td>52272.000000</td>\n      <td>40.000000</td>\n      <td>3600.000000</td>\n      <td>43.000000</td>\n      <td>1.200000e+07</td>\n    </tr>\n  </tbody>\n</table>\n</div>"
          },
          "metadata": {}
        }
      ]
    },
    {
      "cell_type": "code",
      "source": [
        "data['location'].value_counts()"
      ],
      "metadata": {
        "execution": {
          "iopub.status.busy": "2024-05-18T14:22:23.787655Z",
          "iopub.execute_input": "2024-05-18T14:22:23.788131Z",
          "iopub.status.idle": "2024-05-18T14:22:23.802516Z",
          "shell.execute_reply.started": "2024-05-18T14:22:23.788096Z",
          "shell.execute_reply": "2024-05-18T14:22:23.801204Z"
        },
        "trusted": true,
        "id": "LfKU0a22A2fJ",
        "outputId": "cd54998c-df6e-4cd1-8d55-c74192a42997"
      },
      "execution_count": null,
      "outputs": [
        {
          "execution_count": 33,
          "output_type": "execute_result",
          "data": {
            "text/plain": "location\nWhitefield                        540\nSarjapur  Road                    399\nElectronic City                   302\nKanakpura Road                    273\nThanisandra                       234\n                                 ... \n1st Stage Radha Krishna Layout      1\nBEML Layout 5th stage               1\nsingapura paradise                  1\nUvce Layout                         1\nAbshot Layout                       1\nName: count, Length: 1306, dtype: int64"
          },
          "metadata": {}
        }
      ]
    },
    {
      "cell_type": "markdown",
      "source": [
        "**Strip Method for remove the WhiteSpace for each entry in 'Location'**"
      ],
      "metadata": {
        "id": "DzvLOnUuA2fJ"
      }
    },
    {
      "cell_type": "code",
      "source": [
        "data['location']=data['location'].apply(lambda x: x.strip())\n",
        "location_counts=data['location'].value_counts()"
      ],
      "metadata": {
        "execution": {
          "iopub.status.busy": "2024-05-18T14:22:29.463046Z",
          "iopub.execute_input": "2024-05-18T14:22:29.463449Z",
          "iopub.status.idle": "2024-05-18T14:22:29.479213Z",
          "shell.execute_reply.started": "2024-05-18T14:22:29.463419Z",
          "shell.execute_reply": "2024-05-18T14:22:29.477729Z"
        },
        "trusted": true,
        "id": "st0l7kd7A2fK"
      },
      "execution_count": null,
      "outputs": []
    },
    {
      "cell_type": "code",
      "source": [
        "location_counts"
      ],
      "metadata": {
        "execution": {
          "iopub.status.busy": "2024-05-18T14:22:33.969959Z",
          "iopub.execute_input": "2024-05-18T14:22:33.970612Z",
          "iopub.status.idle": "2024-05-18T14:22:33.980893Z",
          "shell.execute_reply.started": "2024-05-18T14:22:33.97057Z",
          "shell.execute_reply": "2024-05-18T14:22:33.979701Z"
        },
        "trusted": true,
        "id": "QSg2tpnLA2fK",
        "outputId": "1cc61a2c-527b-486a-8253-4d7ad22b3951"
      },
      "execution_count": null,
      "outputs": [
        {
          "execution_count": 35,
          "output_type": "execute_result",
          "data": {
            "text/plain": "location\nWhitefield                            541\nSarjapur  Road                        399\nElectronic City                       304\nKanakpura Road                        273\nThanisandra                           237\n                                     ... \n1Channasandra                           1\nHosahalli                               1\nVijayabank bank layout                  1\nnear Ramanashree California resort      1\nAbshot Layout                           1\nName: count, Length: 1295, dtype: int64"
          },
          "metadata": {}
        }
      ]
    },
    {
      "cell_type": "code",
      "source": [
        "location_counts_10=location_counts[location_counts<=10]"
      ],
      "metadata": {
        "execution": {
          "iopub.status.busy": "2024-05-18T14:22:38.23557Z",
          "iopub.execute_input": "2024-05-18T14:22:38.236009Z",
          "iopub.status.idle": "2024-05-18T14:22:38.242303Z",
          "shell.execute_reply.started": "2024-05-18T14:22:38.235949Z",
          "shell.execute_reply": "2024-05-18T14:22:38.241057Z"
        },
        "trusted": true,
        "id": "n5ulIy_-A2fK"
      },
      "execution_count": null,
      "outputs": []
    },
    {
      "cell_type": "code",
      "source": [
        "location_counts_10"
      ],
      "metadata": {
        "execution": {
          "iopub.status.busy": "2024-05-18T14:22:45.84418Z",
          "iopub.execute_input": "2024-05-18T14:22:45.84454Z",
          "iopub.status.idle": "2024-05-18T14:22:45.855233Z",
          "shell.execute_reply.started": "2024-05-18T14:22:45.844512Z",
          "shell.execute_reply": "2024-05-18T14:22:45.853785Z"
        },
        "trusted": true,
        "id": "1FT8_014A2fK",
        "outputId": "5bdaa147-4ec0-4369-e2e0-9f4a2ef99a20"
      },
      "execution_count": null,
      "outputs": [
        {
          "execution_count": 37,
          "output_type": "execute_result",
          "data": {
            "text/plain": "location\nBTM 1st Stage                         10\nNagadevanahalli                       10\nBasapura                              10\nSector 1 HSR Layout                   10\nDairy Circle                          10\n                                      ..\n1Channasandra                          1\nHosahalli                              1\nVijayabank bank layout                 1\nnear Ramanashree California resort     1\nAbshot Layout                          1\nName: count, Length: 1054, dtype: int64"
          },
          "metadata": {}
        }
      ]
    },
    {
      "cell_type": "markdown",
      "source": [
        "**Update the Location columns in a DataFrame**"
      ],
      "metadata": {
        "id": "nRzF-EXXA2fK"
      }
    },
    {
      "cell_type": "code",
      "source": [
        "data['location']=data['location'].apply(lambda x: 'other' if x in location_counts_10 else x)"
      ],
      "metadata": {
        "execution": {
          "iopub.status.busy": "2024-05-18T14:22:49.922651Z",
          "iopub.execute_input": "2024-05-18T14:22:49.923154Z",
          "iopub.status.idle": "2024-05-18T14:22:49.975867Z",
          "shell.execute_reply.started": "2024-05-18T14:22:49.923118Z",
          "shell.execute_reply": "2024-05-18T14:22:49.974616Z"
        },
        "trusted": true,
        "id": "XLjDQCCTA2fK"
      },
      "execution_count": null,
      "outputs": []
    },
    {
      "cell_type": "code",
      "source": [
        "data['location'].value_counts()"
      ],
      "metadata": {
        "execution": {
          "iopub.status.busy": "2024-05-18T14:22:54.113537Z",
          "iopub.execute_input": "2024-05-18T14:22:54.114015Z",
          "iopub.status.idle": "2024-05-18T14:22:54.131618Z",
          "shell.execute_reply.started": "2024-05-18T14:22:54.113979Z",
          "shell.execute_reply": "2024-05-18T14:22:54.130193Z"
        },
        "trusted": true,
        "id": "c7hHccU-A2fK",
        "outputId": "35ee012b-0222-4d2b-b1a4-1471e7ae428a"
      },
      "execution_count": null,
      "outputs": [
        {
          "execution_count": 39,
          "output_type": "execute_result",
          "data": {
            "text/plain": "location\nother                 2886\nWhitefield             541\nSarjapur  Road         399\nElectronic City        304\nKanakpura Road         273\n                      ... \nNehru Nagar             11\nBanjara Layout          11\nLB Shastri Nagar        11\nPattandur Agrahara      11\nNarayanapura            11\nName: count, Length: 242, dtype: int64"
          },
          "metadata": {}
        }
      ]
    },
    {
      "cell_type": "code",
      "source": [
        "(data['total_sqft']/data['bhk']).describe()"
      ],
      "metadata": {
        "execution": {
          "iopub.status.busy": "2024-05-18T14:22:57.842693Z",
          "iopub.execute_input": "2024-05-18T14:22:57.843374Z",
          "iopub.status.idle": "2024-05-18T14:22:57.85877Z",
          "shell.execute_reply.started": "2024-05-18T14:22:57.843334Z",
          "shell.execute_reply": "2024-05-18T14:22:57.857511Z"
        },
        "trusted": true,
        "id": "KwRZi6W2A2fL",
        "outputId": "ecd714d1-9a01-4eb1-a0ee-ce48107ebb7f"
      },
      "execution_count": null,
      "outputs": [
        {
          "execution_count": 40,
          "output_type": "execute_result",
          "data": {
            "text/plain": "count    13274.000000\nmean       575.074878\nstd        388.205175\nmin          0.250000\n25%        473.333333\n50%        552.500000\n75%        625.000000\nmax      26136.000000\ndtype: float64"
          },
          "metadata": {}
        }
      ]
    },
    {
      "cell_type": "code",
      "source": [
        "data=data[((data['total_sqft']/data['bhk'])>=300)]\n"
      ],
      "metadata": {
        "execution": {
          "iopub.status.busy": "2024-05-18T14:23:00.974957Z",
          "iopub.execute_input": "2024-05-18T14:23:00.975462Z",
          "iopub.status.idle": "2024-05-18T14:23:00.986102Z",
          "shell.execute_reply.started": "2024-05-18T14:23:00.975424Z",
          "shell.execute_reply": "2024-05-18T14:23:00.985034Z"
        },
        "trusted": true,
        "id": "N6h9kyGxA2fL"
      },
      "execution_count": null,
      "outputs": []
    },
    {
      "cell_type": "code",
      "source": [
        "data.describe()"
      ],
      "metadata": {
        "execution": {
          "iopub.status.busy": "2024-05-18T14:23:05.109004Z",
          "iopub.execute_input": "2024-05-18T14:23:05.109463Z",
          "iopub.status.idle": "2024-05-18T14:23:05.145832Z",
          "shell.execute_reply.started": "2024-05-18T14:23:05.109429Z",
          "shell.execute_reply": "2024-05-18T14:23:05.143023Z"
        },
        "trusted": true,
        "id": "9KucCeG7A2fL",
        "outputId": "c5a3d756-0a37-4ea7-f3e8-019b9b53e0d0"
      },
      "execution_count": null,
      "outputs": [
        {
          "execution_count": 42,
          "output_type": "execute_result",
          "data": {
            "text/plain": "         total_sqft          bath         price           bhk  \\\ncount  12530.000000  12530.000000  12530.000000  12530.000000   \nmean    1594.564544      2.559537    111.382401      2.650838   \nstd     1261.271296      1.077938    152.077329      0.976678   \nmin      300.000000      1.000000      8.440000      1.000000   \n25%     1116.000000      2.000000     49.000000      2.000000   \n50%     1300.000000      2.000000     70.000000      3.000000   \n75%     1700.000000      3.000000    115.000000      3.000000   \nmax    52272.000000     16.000000   3600.000000     16.000000   \n\n       price_per_square_feet  \ncount           12530.000000  \nmean             6303.979357  \nstd              4162.237981  \nmin               267.829813  \n25%              4210.526316  \n50%              5294.117647  \n75%              6916.666667  \nmax            176470.588235  ",
            "text/html": "<div>\n<style scoped>\n    .dataframe tbody tr th:only-of-type {\n        vertical-align: middle;\n    }\n\n    .dataframe tbody tr th {\n        vertical-align: top;\n    }\n\n    .dataframe thead th {\n        text-align: right;\n    }\n</style>\n<table border=\"1\" class=\"dataframe\">\n  <thead>\n    <tr style=\"text-align: right;\">\n      <th></th>\n      <th>total_sqft</th>\n      <th>bath</th>\n      <th>price</th>\n      <th>bhk</th>\n      <th>price_per_square_feet</th>\n    </tr>\n  </thead>\n  <tbody>\n    <tr>\n      <th>count</th>\n      <td>12530.000000</td>\n      <td>12530.000000</td>\n      <td>12530.000000</td>\n      <td>12530.000000</td>\n      <td>12530.000000</td>\n    </tr>\n    <tr>\n      <th>mean</th>\n      <td>1594.564544</td>\n      <td>2.559537</td>\n      <td>111.382401</td>\n      <td>2.650838</td>\n      <td>6303.979357</td>\n    </tr>\n    <tr>\n      <th>std</th>\n      <td>1261.271296</td>\n      <td>1.077938</td>\n      <td>152.077329</td>\n      <td>0.976678</td>\n      <td>4162.237981</td>\n    </tr>\n    <tr>\n      <th>min</th>\n      <td>300.000000</td>\n      <td>1.000000</td>\n      <td>8.440000</td>\n      <td>1.000000</td>\n      <td>267.829813</td>\n    </tr>\n    <tr>\n      <th>25%</th>\n      <td>1116.000000</td>\n      <td>2.000000</td>\n      <td>49.000000</td>\n      <td>2.000000</td>\n      <td>4210.526316</td>\n    </tr>\n    <tr>\n      <th>50%</th>\n      <td>1300.000000</td>\n      <td>2.000000</td>\n      <td>70.000000</td>\n      <td>3.000000</td>\n      <td>5294.117647</td>\n    </tr>\n    <tr>\n      <th>75%</th>\n      <td>1700.000000</td>\n      <td>3.000000</td>\n      <td>115.000000</td>\n      <td>3.000000</td>\n      <td>6916.666667</td>\n    </tr>\n    <tr>\n      <th>max</th>\n      <td>52272.000000</td>\n      <td>16.000000</td>\n      <td>3600.000000</td>\n      <td>16.000000</td>\n      <td>176470.588235</td>\n    </tr>\n  </tbody>\n</table>\n</div>"
          },
          "metadata": {}
        }
      ]
    },
    {
      "cell_type": "code",
      "source": [
        "data.shape"
      ],
      "metadata": {
        "execution": {
          "iopub.status.busy": "2024-05-18T14:23:07.284164Z",
          "iopub.execute_input": "2024-05-18T14:23:07.284564Z",
          "iopub.status.idle": "2024-05-18T14:23:07.29258Z",
          "shell.execute_reply.started": "2024-05-18T14:23:07.284534Z",
          "shell.execute_reply": "2024-05-18T14:23:07.291399Z"
        },
        "trusted": true,
        "id": "ToolnHrgA2fL",
        "outputId": "7e9be799-fa5d-4681-cb04-1d696064879b"
      },
      "execution_count": null,
      "outputs": [
        {
          "execution_count": 43,
          "output_type": "execute_result",
          "data": {
            "text/plain": "(12530, 7)"
          },
          "metadata": {}
        }
      ]
    },
    {
      "cell_type": "code",
      "source": [
        "data.price_per_square_feet.describe()"
      ],
      "metadata": {
        "execution": {
          "iopub.status.busy": "2024-05-18T14:23:09.353615Z",
          "iopub.execute_input": "2024-05-18T14:23:09.355114Z",
          "iopub.status.idle": "2024-05-18T14:23:09.3699Z",
          "shell.execute_reply.started": "2024-05-18T14:23:09.355048Z",
          "shell.execute_reply": "2024-05-18T14:23:09.368222Z"
        },
        "trusted": true,
        "id": "tB6bY392A2fL",
        "outputId": "52eac9ca-13c5-48a2-cdd8-c22847df8723"
      },
      "execution_count": null,
      "outputs": [
        {
          "execution_count": 44,
          "output_type": "execute_result",
          "data": {
            "text/plain": "count     12530.000000\nmean       6303.979357\nstd        4162.237981\nmin         267.829813\n25%        4210.526316\n50%        5294.117647\n75%        6916.666667\nmax      176470.588235\nName: price_per_square_feet, dtype: float64"
          },
          "metadata": {}
        }
      ]
    },
    {
      "cell_type": "markdown",
      "source": [
        "**Remove Outlier from the orginal DataFrame**"
      ],
      "metadata": {
        "id": "7dchYcM7A2fL"
      }
    },
    {
      "cell_type": "code",
      "source": [
        "def remove_outlier(df):\n",
        "    df_output=pd.DataFrame()\n",
        "    for key,subdf in df.groupby('location'):\n",
        "        m = np.mean(subdf.price_per_square_feet)\n",
        "        n = np.std(subdf.price_per_square_feet)\n",
        "        gen_df=subdf[(subdf.price_per_square_feet>(m-n)) & (subdf.price_per_square_feet<=(m+n))]\n",
        "        df_output=pd.concat([df_output,gen_df],ignore_index=True)\n",
        "    return df_output\n",
        "data=remove_outlier(data)\n",
        "data.describe()"
      ],
      "metadata": {
        "trusted": true,
        "id": "8I4GYwohA2fL"
      },
      "execution_count": null,
      "outputs": []
    },
    {
      "cell_type": "code",
      "source": [
        "def bhk_outlier_remove(df):\n",
        "    exclude_indices=np.array([])\n",
        "    for location, location_df in df.groupby('location'):\n",
        "        bhk_stats={}\n",
        "        for bhk, bhk_df in location_df.groupby('bhk'):\n",
        "            bhk_stats[bhk]={\n",
        "                'mean':np.mean(bhk_df.price_per_square_feet),\n",
        "                'std':np.std(bhk_df.price_per_square_feet),\n",
        "                'count':bhk_df.shape[0]\n",
        "            }\n",
        "        for bhk, bhk_df in location_df.groupby('bhk'):\n",
        "            stats=bhk_stats.get(bhk-1)\n",
        "            if stats and stats ['count']>5:\n",
        "                exclude_indices=np.append(exclude_indices,bhk_df[bhk_df.price_per_square_feet<(stats['mean'])].index.values)\n",
        "    return df.drop(exclude_indices, axis='index')"
      ],
      "metadata": {
        "execution": {
          "iopub.status.busy": "2024-05-18T14:23:17.849371Z",
          "iopub.execute_input": "2024-05-18T14:23:17.849787Z",
          "iopub.status.idle": "2024-05-18T14:23:17.859708Z",
          "shell.execute_reply.started": "2024-05-18T14:23:17.849754Z",
          "shell.execute_reply": "2024-05-18T14:23:17.858067Z"
        },
        "trusted": true,
        "id": "hBpyZ1sTA2fM"
      },
      "execution_count": null,
      "outputs": []
    },
    {
      "cell_type": "code",
      "source": [
        "data=bhk_outlier_remove(data)"
      ],
      "metadata": {
        "execution": {
          "iopub.status.busy": "2024-05-18T14:23:20.988562Z",
          "iopub.execute_input": "2024-05-18T14:23:20.989079Z",
          "iopub.status.idle": "2024-05-18T14:23:21.833706Z",
          "shell.execute_reply.started": "2024-05-18T14:23:20.989043Z",
          "shell.execute_reply": "2024-05-18T14:23:21.832688Z"
        },
        "trusted": true,
        "id": "QeATqlsHA2fM"
      },
      "execution_count": null,
      "outputs": []
    },
    {
      "cell_type": "code",
      "source": [
        "data"
      ],
      "metadata": {
        "execution": {
          "iopub.status.busy": "2024-05-18T14:23:24.114118Z",
          "iopub.execute_input": "2024-05-18T14:23:24.115098Z",
          "iopub.status.idle": "2024-05-18T14:23:24.138907Z",
          "shell.execute_reply.started": "2024-05-18T14:23:24.11506Z",
          "shell.execute_reply": "2024-05-18T14:23:24.137465Z"
        },
        "trusted": true,
        "id": "krAcqgpUA2fM",
        "outputId": "5fcc878b-d6ef-459f-c05e-eb1ee7c33479"
      },
      "execution_count": null,
      "outputs": [
        {
          "execution_count": 47,
          "output_type": "execute_result",
          "data": {
            "text/plain": "                       location   size  total_sqft  bath   price  bhk  \\\n0      Electronic City Phase II  2 BHK      1056.0   2.0   39.07    2   \n2                   Uttarahalli  3 BHK      1440.0   2.0   62.00    3   \n3            Lingadheeranahalli  3 BHK      1521.0   3.0   95.00    3   \n4                      Kothanur  2 BHK      1200.0   2.0   51.00    2   \n6              Old Airport Road  4 BHK      2732.0   4.0  204.00    4   \n...                         ...    ...         ...   ...     ...  ...   \n13314         Green Glen Layout  3 BHK      1715.0   3.0  112.00    3   \n13316                     other  4 BHK      3600.0   5.0  400.00    4   \n13317     Raja Rajeshwari Nagar  2 BHK      1141.0   2.0   60.00    2   \n13318           Padmanabhanagar  4 BHK      4689.0   4.0  488.00    4   \n13319              Doddathoguru  1 BHK       550.0   1.0   17.00    1   \n\n       price_per_square_feet  \n0                3699.810606  \n2                4305.555556  \n3                6245.890861  \n4                4250.000000  \n6                7467.057101  \n...                      ...  \n13314            6530.612245  \n13316           11111.111111  \n13317            5258.545136  \n13318           10407.336319  \n13319            3090.909091  \n\n[8694 rows x 7 columns]",
            "text/html": "<div>\n<style scoped>\n    .dataframe tbody tr th:only-of-type {\n        vertical-align: middle;\n    }\n\n    .dataframe tbody tr th {\n        vertical-align: top;\n    }\n\n    .dataframe thead th {\n        text-align: right;\n    }\n</style>\n<table border=\"1\" class=\"dataframe\">\n  <thead>\n    <tr style=\"text-align: right;\">\n      <th></th>\n      <th>location</th>\n      <th>size</th>\n      <th>total_sqft</th>\n      <th>bath</th>\n      <th>price</th>\n      <th>bhk</th>\n      <th>price_per_square_feet</th>\n    </tr>\n  </thead>\n  <tbody>\n    <tr>\n      <th>0</th>\n      <td>Electronic City Phase II</td>\n      <td>2 BHK</td>\n      <td>1056.0</td>\n      <td>2.0</td>\n      <td>39.07</td>\n      <td>2</td>\n      <td>3699.810606</td>\n    </tr>\n    <tr>\n      <th>2</th>\n      <td>Uttarahalli</td>\n      <td>3 BHK</td>\n      <td>1440.0</td>\n      <td>2.0</td>\n      <td>62.00</td>\n      <td>3</td>\n      <td>4305.555556</td>\n    </tr>\n    <tr>\n      <th>3</th>\n      <td>Lingadheeranahalli</td>\n      <td>3 BHK</td>\n      <td>1521.0</td>\n      <td>3.0</td>\n      <td>95.00</td>\n      <td>3</td>\n      <td>6245.890861</td>\n    </tr>\n    <tr>\n      <th>4</th>\n      <td>Kothanur</td>\n      <td>2 BHK</td>\n      <td>1200.0</td>\n      <td>2.0</td>\n      <td>51.00</td>\n      <td>2</td>\n      <td>4250.000000</td>\n    </tr>\n    <tr>\n      <th>6</th>\n      <td>Old Airport Road</td>\n      <td>4 BHK</td>\n      <td>2732.0</td>\n      <td>4.0</td>\n      <td>204.00</td>\n      <td>4</td>\n      <td>7467.057101</td>\n    </tr>\n    <tr>\n      <th>...</th>\n      <td>...</td>\n      <td>...</td>\n      <td>...</td>\n      <td>...</td>\n      <td>...</td>\n      <td>...</td>\n      <td>...</td>\n    </tr>\n    <tr>\n      <th>13314</th>\n      <td>Green Glen Layout</td>\n      <td>3 BHK</td>\n      <td>1715.0</td>\n      <td>3.0</td>\n      <td>112.00</td>\n      <td>3</td>\n      <td>6530.612245</td>\n    </tr>\n    <tr>\n      <th>13316</th>\n      <td>other</td>\n      <td>4 BHK</td>\n      <td>3600.0</td>\n      <td>5.0</td>\n      <td>400.00</td>\n      <td>4</td>\n      <td>11111.111111</td>\n    </tr>\n    <tr>\n      <th>13317</th>\n      <td>Raja Rajeshwari Nagar</td>\n      <td>2 BHK</td>\n      <td>1141.0</td>\n      <td>2.0</td>\n      <td>60.00</td>\n      <td>2</td>\n      <td>5258.545136</td>\n    </tr>\n    <tr>\n      <th>13318</th>\n      <td>Padmanabhanagar</td>\n      <td>4 BHK</td>\n      <td>4689.0</td>\n      <td>4.0</td>\n      <td>488.00</td>\n      <td>4</td>\n      <td>10407.336319</td>\n    </tr>\n    <tr>\n      <th>13319</th>\n      <td>Doddathoguru</td>\n      <td>1 BHK</td>\n      <td>550.0</td>\n      <td>1.0</td>\n      <td>17.00</td>\n      <td>1</td>\n      <td>3090.909091</td>\n    </tr>\n  </tbody>\n</table>\n<p>8694 rows × 7 columns</p>\n</div>"
          },
          "metadata": {}
        }
      ]
    },
    {
      "cell_type": "code",
      "source": [
        "data.drop(columns=['size','price_per_square_feet'],inplace=True)"
      ],
      "metadata": {
        "execution": {
          "iopub.status.busy": "2024-05-18T14:23:26.323642Z",
          "iopub.execute_input": "2024-05-18T14:23:26.32409Z",
          "iopub.status.idle": "2024-05-18T14:23:26.331225Z",
          "shell.execute_reply.started": "2024-05-18T14:23:26.324054Z",
          "shell.execute_reply": "2024-05-18T14:23:26.329814Z"
        },
        "trusted": true,
        "id": "O1JPl6GNA2fM"
      },
      "execution_count": null,
      "outputs": []
    },
    {
      "cell_type": "code",
      "source": [
        "data.head()"
      ],
      "metadata": {
        "execution": {
          "iopub.status.busy": "2024-05-18T14:23:29.238815Z",
          "iopub.execute_input": "2024-05-18T14:23:29.239317Z",
          "iopub.status.idle": "2024-05-18T14:23:29.257383Z",
          "shell.execute_reply.started": "2024-05-18T14:23:29.23928Z",
          "shell.execute_reply": "2024-05-18T14:23:29.25589Z"
        },
        "trusted": true,
        "id": "ECJEopl0A2fM",
        "outputId": "3f894050-b58d-4a07-d4b5-d1bb4e02d28f"
      },
      "execution_count": null,
      "outputs": [
        {
          "execution_count": 49,
          "output_type": "execute_result",
          "data": {
            "text/plain": "                   location  total_sqft  bath   price  bhk\n0  Electronic City Phase II      1056.0   2.0   39.07    2\n2               Uttarahalli      1440.0   2.0   62.00    3\n3        Lingadheeranahalli      1521.0   3.0   95.00    3\n4                  Kothanur      1200.0   2.0   51.00    2\n6          Old Airport Road      2732.0   4.0  204.00    4",
            "text/html": "<div>\n<style scoped>\n    .dataframe tbody tr th:only-of-type {\n        vertical-align: middle;\n    }\n\n    .dataframe tbody tr th {\n        vertical-align: top;\n    }\n\n    .dataframe thead th {\n        text-align: right;\n    }\n</style>\n<table border=\"1\" class=\"dataframe\">\n  <thead>\n    <tr style=\"text-align: right;\">\n      <th></th>\n      <th>location</th>\n      <th>total_sqft</th>\n      <th>bath</th>\n      <th>price</th>\n      <th>bhk</th>\n    </tr>\n  </thead>\n  <tbody>\n    <tr>\n      <th>0</th>\n      <td>Electronic City Phase II</td>\n      <td>1056.0</td>\n      <td>2.0</td>\n      <td>39.07</td>\n      <td>2</td>\n    </tr>\n    <tr>\n      <th>2</th>\n      <td>Uttarahalli</td>\n      <td>1440.0</td>\n      <td>2.0</td>\n      <td>62.00</td>\n      <td>3</td>\n    </tr>\n    <tr>\n      <th>3</th>\n      <td>Lingadheeranahalli</td>\n      <td>1521.0</td>\n      <td>3.0</td>\n      <td>95.00</td>\n      <td>3</td>\n    </tr>\n    <tr>\n      <th>4</th>\n      <td>Kothanur</td>\n      <td>1200.0</td>\n      <td>2.0</td>\n      <td>51.00</td>\n      <td>2</td>\n    </tr>\n    <tr>\n      <th>6</th>\n      <td>Old Airport Road</td>\n      <td>2732.0</td>\n      <td>4.0</td>\n      <td>204.00</td>\n      <td>4</td>\n    </tr>\n  </tbody>\n</table>\n</div>"
          },
          "metadata": {}
        }
      ]
    },
    {
      "cell_type": "code",
      "source": [
        "data.to_csv(\"Cleaned_data.csv\")"
      ],
      "metadata": {
        "execution": {
          "iopub.status.busy": "2024-05-18T14:23:40.239168Z",
          "iopub.execute_input": "2024-05-18T14:23:40.23955Z",
          "iopub.status.idle": "2024-05-18T14:23:40.296424Z",
          "shell.execute_reply.started": "2024-05-18T14:23:40.23952Z",
          "shell.execute_reply": "2024-05-18T14:23:40.295477Z"
        },
        "trusted": true,
        "id": "l_Z7KijnA2fM"
      },
      "execution_count": null,
      "outputs": []
    },
    {
      "cell_type": "code",
      "source": [
        "X=data.drop(columns=['price'])\n",
        "y=data['price']"
      ],
      "metadata": {
        "execution": {
          "iopub.status.busy": "2024-05-18T14:23:43.634116Z",
          "iopub.execute_input": "2024-05-18T14:23:43.63447Z",
          "iopub.status.idle": "2024-05-18T14:23:43.641608Z",
          "shell.execute_reply.started": "2024-05-18T14:23:43.634443Z",
          "shell.execute_reply": "2024-05-18T14:23:43.640344Z"
        },
        "trusted": true,
        "id": "p7tTCDLEA2fM"
      },
      "execution_count": null,
      "outputs": []
    },
    {
      "cell_type": "code",
      "source": [
        "from sklearn.model_selection import train_test_split\n",
        "from sklearn.linear_model import LinearRegression,Lasso,Ridge\n",
        "from sklearn.preprocessing import OneHotEncoder, StandardScaler\n",
        "from sklearn.compose import make_column_transformer\n",
        "from sklearn.pipeline import make_pipeline\n",
        "from sklearn.metrics import r2_score"
      ],
      "metadata": {
        "execution": {
          "iopub.status.busy": "2024-05-18T14:23:47.603294Z",
          "iopub.execute_input": "2024-05-18T14:23:47.603675Z",
          "iopub.status.idle": "2024-05-18T14:23:48.483787Z",
          "shell.execute_reply.started": "2024-05-18T14:23:47.603647Z",
          "shell.execute_reply": "2024-05-18T14:23:48.482358Z"
        },
        "trusted": true,
        "id": "nbDoxHJPA2fN"
      },
      "execution_count": null,
      "outputs": []
    },
    {
      "cell_type": "code",
      "source": [
        "X_train,X_test,y_train,y_test = train_test_split(X,y,test_size=0.2, random_state=0)"
      ],
      "metadata": {
        "execution": {
          "iopub.status.busy": "2024-05-18T14:23:51.228994Z",
          "iopub.execute_input": "2024-05-18T14:23:51.229438Z",
          "iopub.status.idle": "2024-05-18T14:23:51.242336Z",
          "shell.execute_reply.started": "2024-05-18T14:23:51.229404Z",
          "shell.execute_reply": "2024-05-18T14:23:51.240948Z"
        },
        "trusted": true,
        "id": "bDcf3fYjA2fN"
      },
      "execution_count": null,
      "outputs": []
    },
    {
      "cell_type": "code",
      "source": [
        "print(X_train.shape)"
      ],
      "metadata": {
        "execution": {
          "iopub.status.busy": "2024-05-18T14:23:54.76967Z",
          "iopub.execute_input": "2024-05-18T14:23:54.770128Z",
          "iopub.status.idle": "2024-05-18T14:23:54.776301Z",
          "shell.execute_reply.started": "2024-05-18T14:23:54.770095Z",
          "shell.execute_reply": "2024-05-18T14:23:54.774863Z"
        },
        "trusted": true,
        "id": "qNQuWsuoA2fN",
        "outputId": "f3d39c4e-d160-4f5a-9819-7334d96760c1"
      },
      "execution_count": null,
      "outputs": [
        {
          "name": "stdout",
          "text": "(6955, 4)\n",
          "output_type": "stream"
        }
      ]
    },
    {
      "cell_type": "code",
      "source": [
        "print(X_test.shape)"
      ],
      "metadata": {
        "execution": {
          "iopub.status.busy": "2024-05-18T14:23:58.164319Z",
          "iopub.execute_input": "2024-05-18T14:23:58.1647Z",
          "iopub.status.idle": "2024-05-18T14:23:58.171678Z",
          "shell.execute_reply.started": "2024-05-18T14:23:58.16467Z",
          "shell.execute_reply": "2024-05-18T14:23:58.170264Z"
        },
        "trusted": true,
        "id": "rye_QazNA2fN",
        "outputId": "96e85d97-fbf2-43a3-f353-5010f7d87d2d"
      },
      "execution_count": null,
      "outputs": [
        {
          "name": "stdout",
          "text": "(1739, 4)\n",
          "output_type": "stream"
        }
      ]
    },
    {
      "cell_type": "markdown",
      "source": [
        "# **Linear Reggression**\n",
        "**scikit-learn library**"
      ],
      "metadata": {
        "id": "GVGcCRYVA2fN"
      }
    },
    {
      "cell_type": "code",
      "source": [
        "column_trans = make_column_transformer((OneHotEncoder(sparse=False ),['location']),remainder='passthrough')"
      ],
      "metadata": {
        "execution": {
          "iopub.status.busy": "2024-05-18T14:24:04.83418Z",
          "iopub.execute_input": "2024-05-18T14:24:04.834587Z",
          "iopub.status.idle": "2024-05-18T14:24:04.841065Z",
          "shell.execute_reply.started": "2024-05-18T14:24:04.834555Z",
          "shell.execute_reply": "2024-05-18T14:24:04.83993Z"
        },
        "trusted": true,
        "id": "10OY6qeeA2fN"
      },
      "execution_count": null,
      "outputs": []
    },
    {
      "cell_type": "code",
      "source": [
        "scaler=StandardScaler()"
      ],
      "metadata": {
        "execution": {
          "iopub.status.busy": "2024-05-18T14:24:06.813478Z",
          "iopub.execute_input": "2024-05-18T14:24:06.813864Z",
          "iopub.status.idle": "2024-05-18T14:24:06.819869Z",
          "shell.execute_reply.started": "2024-05-18T14:24:06.813836Z",
          "shell.execute_reply": "2024-05-18T14:24:06.818346Z"
        },
        "trusted": true,
        "id": "UFs3JM6lA2fN"
      },
      "execution_count": null,
      "outputs": []
    },
    {
      "cell_type": "code",
      "source": [
        "lr=LinearRegression()"
      ],
      "metadata": {
        "execution": {
          "iopub.status.busy": "2024-05-18T14:24:10.469048Z",
          "iopub.execute_input": "2024-05-18T14:24:10.469501Z",
          "iopub.status.idle": "2024-05-18T14:24:10.476725Z",
          "shell.execute_reply.started": "2024-05-18T14:24:10.469469Z",
          "shell.execute_reply": "2024-05-18T14:24:10.475026Z"
        },
        "trusted": true,
        "id": "1_xz2acRA2fN"
      },
      "execution_count": null,
      "outputs": []
    },
    {
      "cell_type": "code",
      "source": [
        "pipe=make_pipeline(column_trans, scaler,lr)"
      ],
      "metadata": {
        "execution": {
          "iopub.status.busy": "2024-05-18T14:24:18.414545Z",
          "iopub.execute_input": "2024-05-18T14:24:18.415053Z",
          "iopub.status.idle": "2024-05-18T14:24:18.421471Z",
          "shell.execute_reply.started": "2024-05-18T14:24:18.415019Z",
          "shell.execute_reply": "2024-05-18T14:24:18.419752Z"
        },
        "trusted": true,
        "id": "pmbHWNFyA2fO"
      },
      "execution_count": null,
      "outputs": []
    },
    {
      "cell_type": "code",
      "source": [
        "pipe.fit(X_train,y_train)"
      ],
      "metadata": {
        "execution": {
          "iopub.status.busy": "2024-05-18T14:24:21.5534Z",
          "iopub.execute_input": "2024-05-18T14:24:21.553819Z",
          "iopub.status.idle": "2024-05-18T14:24:21.853051Z",
          "shell.execute_reply.started": "2024-05-18T14:24:21.553788Z",
          "shell.execute_reply": "2024-05-18T14:24:21.851931Z"
        },
        "trusted": true,
        "id": "V5fecow_A2fO",
        "outputId": "c56a3127-8479-42e0-e18b-503d58b06d92"
      },
      "execution_count": null,
      "outputs": [
        {
          "name": "stderr",
          "text": "/opt/conda/lib/python3.10/site-packages/sklearn/preprocessing/_encoders.py:868: FutureWarning: `sparse` was renamed to `sparse_output` in version 1.2 and will be removed in 1.4. `sparse_output` is ignored unless you leave `sparse` to its default value.\n  warnings.warn(\n",
          "output_type": "stream"
        },
        {
          "execution_count": 60,
          "output_type": "execute_result",
          "data": {
            "text/plain": "Pipeline(steps=[('columntransformer',\n                 ColumnTransformer(remainder='passthrough',\n                                   transformers=[('onehotencoder',\n                                                  OneHotEncoder(sparse=False),\n                                                  ['location'])])),\n                ('standardscaler', StandardScaler()),\n                ('linearregression', LinearRegression())])",
            "text/html": "<style>#sk-container-id-1 {color: black;background-color: white;}#sk-container-id-1 pre{padding: 0;}#sk-container-id-1 div.sk-toggleable {background-color: white;}#sk-container-id-1 label.sk-toggleable__label {cursor: pointer;display: block;width: 100%;margin-bottom: 0;padding: 0.3em;box-sizing: border-box;text-align: center;}#sk-container-id-1 label.sk-toggleable__label-arrow:before {content: \"▸\";float: left;margin-right: 0.25em;color: #696969;}#sk-container-id-1 label.sk-toggleable__label-arrow:hover:before {color: black;}#sk-container-id-1 div.sk-estimator:hover label.sk-toggleable__label-arrow:before {color: black;}#sk-container-id-1 div.sk-toggleable__content {max-height: 0;max-width: 0;overflow: hidden;text-align: left;background-color: #f0f8ff;}#sk-container-id-1 div.sk-toggleable__content pre {margin: 0.2em;color: black;border-radius: 0.25em;background-color: #f0f8ff;}#sk-container-id-1 input.sk-toggleable__control:checked~div.sk-toggleable__content {max-height: 200px;max-width: 100%;overflow: auto;}#sk-container-id-1 input.sk-toggleable__control:checked~label.sk-toggleable__label-arrow:before {content: \"▾\";}#sk-container-id-1 div.sk-estimator input.sk-toggleable__control:checked~label.sk-toggleable__label {background-color: #d4ebff;}#sk-container-id-1 div.sk-label input.sk-toggleable__control:checked~label.sk-toggleable__label {background-color: #d4ebff;}#sk-container-id-1 input.sk-hidden--visually {border: 0;clip: rect(1px 1px 1px 1px);clip: rect(1px, 1px, 1px, 1px);height: 1px;margin: -1px;overflow: hidden;padding: 0;position: absolute;width: 1px;}#sk-container-id-1 div.sk-estimator {font-family: monospace;background-color: #f0f8ff;border: 1px dotted black;border-radius: 0.25em;box-sizing: border-box;margin-bottom: 0.5em;}#sk-container-id-1 div.sk-estimator:hover {background-color: #d4ebff;}#sk-container-id-1 div.sk-parallel-item::after {content: \"\";width: 100%;border-bottom: 1px solid gray;flex-grow: 1;}#sk-container-id-1 div.sk-label:hover label.sk-toggleable__label {background-color: #d4ebff;}#sk-container-id-1 div.sk-serial::before {content: \"\";position: absolute;border-left: 1px solid gray;box-sizing: border-box;top: 0;bottom: 0;left: 50%;z-index: 0;}#sk-container-id-1 div.sk-serial {display: flex;flex-direction: column;align-items: center;background-color: white;padding-right: 0.2em;padding-left: 0.2em;position: relative;}#sk-container-id-1 div.sk-item {position: relative;z-index: 1;}#sk-container-id-1 div.sk-parallel {display: flex;align-items: stretch;justify-content: center;background-color: white;position: relative;}#sk-container-id-1 div.sk-item::before, #sk-container-id-1 div.sk-parallel-item::before {content: \"\";position: absolute;border-left: 1px solid gray;box-sizing: border-box;top: 0;bottom: 0;left: 50%;z-index: -1;}#sk-container-id-1 div.sk-parallel-item {display: flex;flex-direction: column;z-index: 1;position: relative;background-color: white;}#sk-container-id-1 div.sk-parallel-item:first-child::after {align-self: flex-end;width: 50%;}#sk-container-id-1 div.sk-parallel-item:last-child::after {align-self: flex-start;width: 50%;}#sk-container-id-1 div.sk-parallel-item:only-child::after {width: 0;}#sk-container-id-1 div.sk-dashed-wrapped {border: 1px dashed gray;margin: 0 0.4em 0.5em 0.4em;box-sizing: border-box;padding-bottom: 0.4em;background-color: white;}#sk-container-id-1 div.sk-label label {font-family: monospace;font-weight: bold;display: inline-block;line-height: 1.2em;}#sk-container-id-1 div.sk-label-container {text-align: center;}#sk-container-id-1 div.sk-container {/* jupyter's `normalize.less` sets `[hidden] { display: none; }` but bootstrap.min.css set `[hidden] { display: none !important; }` so we also need the `!important` here to be able to override the default hidden behavior on the sphinx rendered scikit-learn.org. See: https://github.com/scikit-learn/scikit-learn/issues/21755 */display: inline-block !important;position: relative;}#sk-container-id-1 div.sk-text-repr-fallback {display: none;}</style><div id=\"sk-container-id-1\" class=\"sk-top-container\"><div class=\"sk-text-repr-fallback\"><pre>Pipeline(steps=[(&#x27;columntransformer&#x27;,\n                 ColumnTransformer(remainder=&#x27;passthrough&#x27;,\n                                   transformers=[(&#x27;onehotencoder&#x27;,\n                                                  OneHotEncoder(sparse=False),\n                                                  [&#x27;location&#x27;])])),\n                (&#x27;standardscaler&#x27;, StandardScaler()),\n                (&#x27;linearregression&#x27;, LinearRegression())])</pre><b>In a Jupyter environment, please rerun this cell to show the HTML representation or trust the notebook. <br />On GitHub, the HTML representation is unable to render, please try loading this page with nbviewer.org.</b></div><div class=\"sk-container\" hidden><div class=\"sk-item sk-dashed-wrapped\"><div class=\"sk-label-container\"><div class=\"sk-label sk-toggleable\"><input class=\"sk-toggleable__control sk-hidden--visually\" id=\"sk-estimator-id-1\" type=\"checkbox\" ><label for=\"sk-estimator-id-1\" class=\"sk-toggleable__label sk-toggleable__label-arrow\">Pipeline</label><div class=\"sk-toggleable__content\"><pre>Pipeline(steps=[(&#x27;columntransformer&#x27;,\n                 ColumnTransformer(remainder=&#x27;passthrough&#x27;,\n                                   transformers=[(&#x27;onehotencoder&#x27;,\n                                                  OneHotEncoder(sparse=False),\n                                                  [&#x27;location&#x27;])])),\n                (&#x27;standardscaler&#x27;, StandardScaler()),\n                (&#x27;linearregression&#x27;, LinearRegression())])</pre></div></div></div><div class=\"sk-serial\"><div class=\"sk-item sk-dashed-wrapped\"><div class=\"sk-label-container\"><div class=\"sk-label sk-toggleable\"><input class=\"sk-toggleable__control sk-hidden--visually\" id=\"sk-estimator-id-2\" type=\"checkbox\" ><label for=\"sk-estimator-id-2\" class=\"sk-toggleable__label sk-toggleable__label-arrow\">columntransformer: ColumnTransformer</label><div class=\"sk-toggleable__content\"><pre>ColumnTransformer(remainder=&#x27;passthrough&#x27;,\n                  transformers=[(&#x27;onehotencoder&#x27;, OneHotEncoder(sparse=False),\n                                 [&#x27;location&#x27;])])</pre></div></div></div><div class=\"sk-parallel\"><div class=\"sk-parallel-item\"><div class=\"sk-item\"><div class=\"sk-label-container\"><div class=\"sk-label sk-toggleable\"><input class=\"sk-toggleable__control sk-hidden--visually\" id=\"sk-estimator-id-3\" type=\"checkbox\" ><label for=\"sk-estimator-id-3\" class=\"sk-toggleable__label sk-toggleable__label-arrow\">onehotencoder</label><div class=\"sk-toggleable__content\"><pre>[&#x27;location&#x27;]</pre></div></div></div><div class=\"sk-serial\"><div class=\"sk-item\"><div class=\"sk-estimator sk-toggleable\"><input class=\"sk-toggleable__control sk-hidden--visually\" id=\"sk-estimator-id-4\" type=\"checkbox\" ><label for=\"sk-estimator-id-4\" class=\"sk-toggleable__label sk-toggleable__label-arrow\">OneHotEncoder</label><div class=\"sk-toggleable__content\"><pre>OneHotEncoder(sparse=False)</pre></div></div></div></div></div></div><div class=\"sk-parallel-item\"><div class=\"sk-item\"><div class=\"sk-label-container\"><div class=\"sk-label sk-toggleable\"><input class=\"sk-toggleable__control sk-hidden--visually\" id=\"sk-estimator-id-5\" type=\"checkbox\" ><label for=\"sk-estimator-id-5\" class=\"sk-toggleable__label sk-toggleable__label-arrow\">remainder</label><div class=\"sk-toggleable__content\"><pre>[&#x27;total_sqft&#x27;, &#x27;bath&#x27;, &#x27;bhk&#x27;]</pre></div></div></div><div class=\"sk-serial\"><div class=\"sk-item\"><div class=\"sk-estimator sk-toggleable\"><input class=\"sk-toggleable__control sk-hidden--visually\" id=\"sk-estimator-id-6\" type=\"checkbox\" ><label for=\"sk-estimator-id-6\" class=\"sk-toggleable__label sk-toggleable__label-arrow\">passthrough</label><div class=\"sk-toggleable__content\"><pre>passthrough</pre></div></div></div></div></div></div></div></div><div class=\"sk-item\"><div class=\"sk-estimator sk-toggleable\"><input class=\"sk-toggleable__control sk-hidden--visually\" id=\"sk-estimator-id-7\" type=\"checkbox\" ><label for=\"sk-estimator-id-7\" class=\"sk-toggleable__label sk-toggleable__label-arrow\">StandardScaler</label><div class=\"sk-toggleable__content\"><pre>StandardScaler()</pre></div></div></div><div class=\"sk-item\"><div class=\"sk-estimator sk-toggleable\"><input class=\"sk-toggleable__control sk-hidden--visually\" id=\"sk-estimator-id-8\" type=\"checkbox\" ><label for=\"sk-estimator-id-8\" class=\"sk-toggleable__label sk-toggleable__label-arrow\">LinearRegression</label><div class=\"sk-toggleable__content\"><pre>LinearRegression()</pre></div></div></div></div></div></div></div>"
          },
          "metadata": {}
        }
      ]
    },
    {
      "cell_type": "code",
      "source": [
        "y_pred_lr = pipe.predict(X_test)"
      ],
      "metadata": {
        "execution": {
          "iopub.status.busy": "2024-05-18T14:24:26.403995Z",
          "iopub.execute_input": "2024-05-18T14:24:26.404513Z",
          "iopub.status.idle": "2024-05-18T14:24:26.425309Z",
          "shell.execute_reply.started": "2024-05-18T14:24:26.40447Z",
          "shell.execute_reply": "2024-05-18T14:24:26.423069Z"
        },
        "trusted": true,
        "id": "m61xVsymA2fO"
      },
      "execution_count": null,
      "outputs": []
    },
    {
      "cell_type": "code",
      "source": [
        "r2_score(y_test, y_pred_lr)"
      ],
      "metadata": {
        "execution": {
          "iopub.status.busy": "2024-05-18T14:24:31.894534Z",
          "iopub.execute_input": "2024-05-18T14:24:31.894988Z",
          "iopub.status.idle": "2024-05-18T14:24:31.904316Z",
          "shell.execute_reply.started": "2024-05-18T14:24:31.894942Z",
          "shell.execute_reply": "2024-05-18T14:24:31.902946Z"
        },
        "trusted": true,
        "id": "Z3SVOPB9A2fO",
        "outputId": "4d002fda-7d3a-4cd7-fe6f-9923459e4511"
      },
      "execution_count": null,
      "outputs": [
        {
          "execution_count": 62,
          "output_type": "execute_result",
          "data": {
            "text/plain": "0.42478961923237546"
          },
          "metadata": {}
        }
      ]
    },
    {
      "cell_type": "markdown",
      "source": [
        "**Lasso**"
      ],
      "metadata": {
        "id": "Jct4tpFRA2fO"
      }
    },
    {
      "cell_type": "code",
      "source": [
        "lasso=Lasso()"
      ],
      "metadata": {
        "execution": {
          "iopub.status.busy": "2024-05-18T14:24:37.439267Z",
          "iopub.execute_input": "2024-05-18T14:24:37.439757Z",
          "iopub.status.idle": "2024-05-18T14:24:37.445133Z",
          "shell.execute_reply.started": "2024-05-18T14:24:37.43972Z",
          "shell.execute_reply": "2024-05-18T14:24:37.443519Z"
        },
        "trusted": true,
        "id": "KFvXzUsfA2fO"
      },
      "execution_count": null,
      "outputs": []
    },
    {
      "cell_type": "code",
      "source": [
        "pipe=make_pipeline(column_trans, scaler,lasso)"
      ],
      "metadata": {
        "execution": {
          "iopub.status.busy": "2024-05-18T14:24:38.759073Z",
          "iopub.execute_input": "2024-05-18T14:24:38.759733Z",
          "iopub.status.idle": "2024-05-18T14:24:38.764205Z",
          "shell.execute_reply.started": "2024-05-18T14:24:38.7597Z",
          "shell.execute_reply": "2024-05-18T14:24:38.762902Z"
        },
        "trusted": true,
        "id": "2NlqrhXhA2fO"
      },
      "execution_count": null,
      "outputs": []
    },
    {
      "cell_type": "code",
      "source": [
        "pipe.fit(X_train,y_train)"
      ],
      "metadata": {
        "execution": {
          "iopub.status.busy": "2024-05-18T14:24:43.229148Z",
          "iopub.execute_input": "2024-05-18T14:24:43.230109Z",
          "iopub.status.idle": "2024-05-18T14:24:43.420307Z",
          "shell.execute_reply.started": "2024-05-18T14:24:43.230068Z",
          "shell.execute_reply": "2024-05-18T14:24:43.419133Z"
        },
        "trusted": true,
        "id": "i2mQTxG_A2fO",
        "outputId": "6faf5c44-ed67-4b0a-9659-7cde4a129f51"
      },
      "execution_count": null,
      "outputs": [
        {
          "name": "stderr",
          "text": "/opt/conda/lib/python3.10/site-packages/sklearn/preprocessing/_encoders.py:868: FutureWarning: `sparse` was renamed to `sparse_output` in version 1.2 and will be removed in 1.4. `sparse_output` is ignored unless you leave `sparse` to its default value.\n  warnings.warn(\n",
          "output_type": "stream"
        },
        {
          "execution_count": 65,
          "output_type": "execute_result",
          "data": {
            "text/plain": "Pipeline(steps=[('columntransformer',\n                 ColumnTransformer(remainder='passthrough',\n                                   transformers=[('onehotencoder',\n                                                  OneHotEncoder(sparse=False),\n                                                  ['location'])])),\n                ('standardscaler', StandardScaler()), ('lasso', Lasso())])",
            "text/html": "<style>#sk-container-id-2 {color: black;background-color: white;}#sk-container-id-2 pre{padding: 0;}#sk-container-id-2 div.sk-toggleable {background-color: white;}#sk-container-id-2 label.sk-toggleable__label {cursor: pointer;display: block;width: 100%;margin-bottom: 0;padding: 0.3em;box-sizing: border-box;text-align: center;}#sk-container-id-2 label.sk-toggleable__label-arrow:before {content: \"▸\";float: left;margin-right: 0.25em;color: #696969;}#sk-container-id-2 label.sk-toggleable__label-arrow:hover:before {color: black;}#sk-container-id-2 div.sk-estimator:hover label.sk-toggleable__label-arrow:before {color: black;}#sk-container-id-2 div.sk-toggleable__content {max-height: 0;max-width: 0;overflow: hidden;text-align: left;background-color: #f0f8ff;}#sk-container-id-2 div.sk-toggleable__content pre {margin: 0.2em;color: black;border-radius: 0.25em;background-color: #f0f8ff;}#sk-container-id-2 input.sk-toggleable__control:checked~div.sk-toggleable__content {max-height: 200px;max-width: 100%;overflow: auto;}#sk-container-id-2 input.sk-toggleable__control:checked~label.sk-toggleable__label-arrow:before {content: \"▾\";}#sk-container-id-2 div.sk-estimator input.sk-toggleable__control:checked~label.sk-toggleable__label {background-color: #d4ebff;}#sk-container-id-2 div.sk-label input.sk-toggleable__control:checked~label.sk-toggleable__label {background-color: #d4ebff;}#sk-container-id-2 input.sk-hidden--visually {border: 0;clip: rect(1px 1px 1px 1px);clip: rect(1px, 1px, 1px, 1px);height: 1px;margin: -1px;overflow: hidden;padding: 0;position: absolute;width: 1px;}#sk-container-id-2 div.sk-estimator {font-family: monospace;background-color: #f0f8ff;border: 1px dotted black;border-radius: 0.25em;box-sizing: border-box;margin-bottom: 0.5em;}#sk-container-id-2 div.sk-estimator:hover {background-color: #d4ebff;}#sk-container-id-2 div.sk-parallel-item::after {content: \"\";width: 100%;border-bottom: 1px solid gray;flex-grow: 1;}#sk-container-id-2 div.sk-label:hover label.sk-toggleable__label {background-color: #d4ebff;}#sk-container-id-2 div.sk-serial::before {content: \"\";position: absolute;border-left: 1px solid gray;box-sizing: border-box;top: 0;bottom: 0;left: 50%;z-index: 0;}#sk-container-id-2 div.sk-serial {display: flex;flex-direction: column;align-items: center;background-color: white;padding-right: 0.2em;padding-left: 0.2em;position: relative;}#sk-container-id-2 div.sk-item {position: relative;z-index: 1;}#sk-container-id-2 div.sk-parallel {display: flex;align-items: stretch;justify-content: center;background-color: white;position: relative;}#sk-container-id-2 div.sk-item::before, #sk-container-id-2 div.sk-parallel-item::before {content: \"\";position: absolute;border-left: 1px solid gray;box-sizing: border-box;top: 0;bottom: 0;left: 50%;z-index: -1;}#sk-container-id-2 div.sk-parallel-item {display: flex;flex-direction: column;z-index: 1;position: relative;background-color: white;}#sk-container-id-2 div.sk-parallel-item:first-child::after {align-self: flex-end;width: 50%;}#sk-container-id-2 div.sk-parallel-item:last-child::after {align-self: flex-start;width: 50%;}#sk-container-id-2 div.sk-parallel-item:only-child::after {width: 0;}#sk-container-id-2 div.sk-dashed-wrapped {border: 1px dashed gray;margin: 0 0.4em 0.5em 0.4em;box-sizing: border-box;padding-bottom: 0.4em;background-color: white;}#sk-container-id-2 div.sk-label label {font-family: monospace;font-weight: bold;display: inline-block;line-height: 1.2em;}#sk-container-id-2 div.sk-label-container {text-align: center;}#sk-container-id-2 div.sk-container {/* jupyter's `normalize.less` sets `[hidden] { display: none; }` but bootstrap.min.css set `[hidden] { display: none !important; }` so we also need the `!important` here to be able to override the default hidden behavior on the sphinx rendered scikit-learn.org. See: https://github.com/scikit-learn/scikit-learn/issues/21755 */display: inline-block !important;position: relative;}#sk-container-id-2 div.sk-text-repr-fallback {display: none;}</style><div id=\"sk-container-id-2\" class=\"sk-top-container\"><div class=\"sk-text-repr-fallback\"><pre>Pipeline(steps=[(&#x27;columntransformer&#x27;,\n                 ColumnTransformer(remainder=&#x27;passthrough&#x27;,\n                                   transformers=[(&#x27;onehotencoder&#x27;,\n                                                  OneHotEncoder(sparse=False),\n                                                  [&#x27;location&#x27;])])),\n                (&#x27;standardscaler&#x27;, StandardScaler()), (&#x27;lasso&#x27;, Lasso())])</pre><b>In a Jupyter environment, please rerun this cell to show the HTML representation or trust the notebook. <br />On GitHub, the HTML representation is unable to render, please try loading this page with nbviewer.org.</b></div><div class=\"sk-container\" hidden><div class=\"sk-item sk-dashed-wrapped\"><div class=\"sk-label-container\"><div class=\"sk-label sk-toggleable\"><input class=\"sk-toggleable__control sk-hidden--visually\" id=\"sk-estimator-id-9\" type=\"checkbox\" ><label for=\"sk-estimator-id-9\" class=\"sk-toggleable__label sk-toggleable__label-arrow\">Pipeline</label><div class=\"sk-toggleable__content\"><pre>Pipeline(steps=[(&#x27;columntransformer&#x27;,\n                 ColumnTransformer(remainder=&#x27;passthrough&#x27;,\n                                   transformers=[(&#x27;onehotencoder&#x27;,\n                                                  OneHotEncoder(sparse=False),\n                                                  [&#x27;location&#x27;])])),\n                (&#x27;standardscaler&#x27;, StandardScaler()), (&#x27;lasso&#x27;, Lasso())])</pre></div></div></div><div class=\"sk-serial\"><div class=\"sk-item sk-dashed-wrapped\"><div class=\"sk-label-container\"><div class=\"sk-label sk-toggleable\"><input class=\"sk-toggleable__control sk-hidden--visually\" id=\"sk-estimator-id-10\" type=\"checkbox\" ><label for=\"sk-estimator-id-10\" class=\"sk-toggleable__label sk-toggleable__label-arrow\">columntransformer: ColumnTransformer</label><div class=\"sk-toggleable__content\"><pre>ColumnTransformer(remainder=&#x27;passthrough&#x27;,\n                  transformers=[(&#x27;onehotencoder&#x27;, OneHotEncoder(sparse=False),\n                                 [&#x27;location&#x27;])])</pre></div></div></div><div class=\"sk-parallel\"><div class=\"sk-parallel-item\"><div class=\"sk-item\"><div class=\"sk-label-container\"><div class=\"sk-label sk-toggleable\"><input class=\"sk-toggleable__control sk-hidden--visually\" id=\"sk-estimator-id-11\" type=\"checkbox\" ><label for=\"sk-estimator-id-11\" class=\"sk-toggleable__label sk-toggleable__label-arrow\">onehotencoder</label><div class=\"sk-toggleable__content\"><pre>[&#x27;location&#x27;]</pre></div></div></div><div class=\"sk-serial\"><div class=\"sk-item\"><div class=\"sk-estimator sk-toggleable\"><input class=\"sk-toggleable__control sk-hidden--visually\" id=\"sk-estimator-id-12\" type=\"checkbox\" ><label for=\"sk-estimator-id-12\" class=\"sk-toggleable__label sk-toggleable__label-arrow\">OneHotEncoder</label><div class=\"sk-toggleable__content\"><pre>OneHotEncoder(sparse=False)</pre></div></div></div></div></div></div><div class=\"sk-parallel-item\"><div class=\"sk-item\"><div class=\"sk-label-container\"><div class=\"sk-label sk-toggleable\"><input class=\"sk-toggleable__control sk-hidden--visually\" id=\"sk-estimator-id-13\" type=\"checkbox\" ><label for=\"sk-estimator-id-13\" class=\"sk-toggleable__label sk-toggleable__label-arrow\">remainder</label><div class=\"sk-toggleable__content\"><pre>[&#x27;total_sqft&#x27;, &#x27;bath&#x27;, &#x27;bhk&#x27;]</pre></div></div></div><div class=\"sk-serial\"><div class=\"sk-item\"><div class=\"sk-estimator sk-toggleable\"><input class=\"sk-toggleable__control sk-hidden--visually\" id=\"sk-estimator-id-14\" type=\"checkbox\" ><label for=\"sk-estimator-id-14\" class=\"sk-toggleable__label sk-toggleable__label-arrow\">passthrough</label><div class=\"sk-toggleable__content\"><pre>passthrough</pre></div></div></div></div></div></div></div></div><div class=\"sk-item\"><div class=\"sk-estimator sk-toggleable\"><input class=\"sk-toggleable__control sk-hidden--visually\" id=\"sk-estimator-id-15\" type=\"checkbox\" ><label for=\"sk-estimator-id-15\" class=\"sk-toggleable__label sk-toggleable__label-arrow\">StandardScaler</label><div class=\"sk-toggleable__content\"><pre>StandardScaler()</pre></div></div></div><div class=\"sk-item\"><div class=\"sk-estimator sk-toggleable\"><input class=\"sk-toggleable__control sk-hidden--visually\" id=\"sk-estimator-id-16\" type=\"checkbox\" ><label for=\"sk-estimator-id-16\" class=\"sk-toggleable__label sk-toggleable__label-arrow\">Lasso</label><div class=\"sk-toggleable__content\"><pre>Lasso()</pre></div></div></div></div></div></div></div>"
          },
          "metadata": {}
        }
      ]
    },
    {
      "cell_type": "code",
      "source": [
        "y_pred_lasso = pipe.predict(X_test)"
      ],
      "metadata": {
        "execution": {
          "iopub.status.busy": "2024-05-18T14:24:48.528507Z",
          "iopub.execute_input": "2024-05-18T14:24:48.528921Z",
          "iopub.status.idle": "2024-05-18T14:24:48.552872Z",
          "shell.execute_reply.started": "2024-05-18T14:24:48.528889Z",
          "shell.execute_reply": "2024-05-18T14:24:48.551333Z"
        },
        "trusted": true,
        "id": "g9K9SkYZA2fP"
      },
      "execution_count": null,
      "outputs": []
    },
    {
      "cell_type": "code",
      "source": [
        "r2_score(y_test, y_pred_lasso)"
      ],
      "metadata": {
        "execution": {
          "iopub.status.busy": "2024-05-18T14:24:52.153632Z",
          "iopub.execute_input": "2024-05-18T14:24:52.154086Z",
          "iopub.status.idle": "2024-05-18T14:24:52.163656Z",
          "shell.execute_reply.started": "2024-05-18T14:24:52.154053Z",
          "shell.execute_reply": "2024-05-18T14:24:52.162526Z"
        },
        "trusted": true,
        "id": "_xQsy79yA2fP",
        "outputId": "4dec9e5d-5b10-442c-acba-6ad15a151f13"
      },
      "execution_count": null,
      "outputs": [
        {
          "execution_count": 67,
          "output_type": "execute_result",
          "data": {
            "text/plain": "0.4253065992250199"
          },
          "metadata": {}
        }
      ]
    },
    {
      "cell_type": "markdown",
      "source": [
        "**Ridge**"
      ],
      "metadata": {
        "id": "5fUOM8mNA2fP"
      }
    },
    {
      "cell_type": "code",
      "source": [
        "ridge=Ridge()"
      ],
      "metadata": {
        "execution": {
          "iopub.status.busy": "2024-05-18T14:24:58.124473Z",
          "iopub.execute_input": "2024-05-18T14:24:58.124987Z",
          "iopub.status.idle": "2024-05-18T14:24:58.130653Z",
          "shell.execute_reply.started": "2024-05-18T14:24:58.12493Z",
          "shell.execute_reply": "2024-05-18T14:24:58.129456Z"
        },
        "trusted": true,
        "id": "YcyP5QCzA2fP"
      },
      "execution_count": null,
      "outputs": []
    },
    {
      "cell_type": "code",
      "source": [
        "pipe=make_pipeline(column_trans, scaler,ridge)"
      ],
      "metadata": {
        "execution": {
          "iopub.status.busy": "2024-05-18T14:25:01.764012Z",
          "iopub.execute_input": "2024-05-18T14:25:01.764491Z",
          "iopub.status.idle": "2024-05-18T14:25:01.771123Z",
          "shell.execute_reply.started": "2024-05-18T14:25:01.764456Z",
          "shell.execute_reply": "2024-05-18T14:25:01.769494Z"
        },
        "trusted": true,
        "id": "BAxoYlieA2fP"
      },
      "execution_count": null,
      "outputs": []
    },
    {
      "cell_type": "code",
      "source": [
        "pipe.fit(X_train,y_train)"
      ],
      "metadata": {
        "execution": {
          "iopub.status.busy": "2024-05-18T14:25:06.874067Z",
          "iopub.execute_input": "2024-05-18T14:25:06.874513Z",
          "iopub.status.idle": "2024-05-18T14:25:07.031638Z",
          "shell.execute_reply.started": "2024-05-18T14:25:06.87448Z",
          "shell.execute_reply": "2024-05-18T14:25:07.030024Z"
        },
        "trusted": true,
        "id": "3_OsX2gsA2fQ",
        "outputId": "12fc6723-8d47-445d-e81f-a0b85f9e86c7"
      },
      "execution_count": null,
      "outputs": [
        {
          "name": "stderr",
          "text": "/opt/conda/lib/python3.10/site-packages/sklearn/preprocessing/_encoders.py:868: FutureWarning: `sparse` was renamed to `sparse_output` in version 1.2 and will be removed in 1.4. `sparse_output` is ignored unless you leave `sparse` to its default value.\n  warnings.warn(\n",
          "output_type": "stream"
        },
        {
          "execution_count": 70,
          "output_type": "execute_result",
          "data": {
            "text/plain": "Pipeline(steps=[('columntransformer',\n                 ColumnTransformer(remainder='passthrough',\n                                   transformers=[('onehotencoder',\n                                                  OneHotEncoder(sparse=False),\n                                                  ['location'])])),\n                ('standardscaler', StandardScaler()), ('ridge', Ridge())])",
            "text/html": "<style>#sk-container-id-3 {color: black;background-color: white;}#sk-container-id-3 pre{padding: 0;}#sk-container-id-3 div.sk-toggleable {background-color: white;}#sk-container-id-3 label.sk-toggleable__label {cursor: pointer;display: block;width: 100%;margin-bottom: 0;padding: 0.3em;box-sizing: border-box;text-align: center;}#sk-container-id-3 label.sk-toggleable__label-arrow:before {content: \"▸\";float: left;margin-right: 0.25em;color: #696969;}#sk-container-id-3 label.sk-toggleable__label-arrow:hover:before {color: black;}#sk-container-id-3 div.sk-estimator:hover label.sk-toggleable__label-arrow:before {color: black;}#sk-container-id-3 div.sk-toggleable__content {max-height: 0;max-width: 0;overflow: hidden;text-align: left;background-color: #f0f8ff;}#sk-container-id-3 div.sk-toggleable__content pre {margin: 0.2em;color: black;border-radius: 0.25em;background-color: #f0f8ff;}#sk-container-id-3 input.sk-toggleable__control:checked~div.sk-toggleable__content {max-height: 200px;max-width: 100%;overflow: auto;}#sk-container-id-3 input.sk-toggleable__control:checked~label.sk-toggleable__label-arrow:before {content: \"▾\";}#sk-container-id-3 div.sk-estimator input.sk-toggleable__control:checked~label.sk-toggleable__label {background-color: #d4ebff;}#sk-container-id-3 div.sk-label input.sk-toggleable__control:checked~label.sk-toggleable__label {background-color: #d4ebff;}#sk-container-id-3 input.sk-hidden--visually {border: 0;clip: rect(1px 1px 1px 1px);clip: rect(1px, 1px, 1px, 1px);height: 1px;margin: -1px;overflow: hidden;padding: 0;position: absolute;width: 1px;}#sk-container-id-3 div.sk-estimator {font-family: monospace;background-color: #f0f8ff;border: 1px dotted black;border-radius: 0.25em;box-sizing: border-box;margin-bottom: 0.5em;}#sk-container-id-3 div.sk-estimator:hover {background-color: #d4ebff;}#sk-container-id-3 div.sk-parallel-item::after {content: \"\";width: 100%;border-bottom: 1px solid gray;flex-grow: 1;}#sk-container-id-3 div.sk-label:hover label.sk-toggleable__label {background-color: #d4ebff;}#sk-container-id-3 div.sk-serial::before {content: \"\";position: absolute;border-left: 1px solid gray;box-sizing: border-box;top: 0;bottom: 0;left: 50%;z-index: 0;}#sk-container-id-3 div.sk-serial {display: flex;flex-direction: column;align-items: center;background-color: white;padding-right: 0.2em;padding-left: 0.2em;position: relative;}#sk-container-id-3 div.sk-item {position: relative;z-index: 1;}#sk-container-id-3 div.sk-parallel {display: flex;align-items: stretch;justify-content: center;background-color: white;position: relative;}#sk-container-id-3 div.sk-item::before, #sk-container-id-3 div.sk-parallel-item::before {content: \"\";position: absolute;border-left: 1px solid gray;box-sizing: border-box;top: 0;bottom: 0;left: 50%;z-index: -1;}#sk-container-id-3 div.sk-parallel-item {display: flex;flex-direction: column;z-index: 1;position: relative;background-color: white;}#sk-container-id-3 div.sk-parallel-item:first-child::after {align-self: flex-end;width: 50%;}#sk-container-id-3 div.sk-parallel-item:last-child::after {align-self: flex-start;width: 50%;}#sk-container-id-3 div.sk-parallel-item:only-child::after {width: 0;}#sk-container-id-3 div.sk-dashed-wrapped {border: 1px dashed gray;margin: 0 0.4em 0.5em 0.4em;box-sizing: border-box;padding-bottom: 0.4em;background-color: white;}#sk-container-id-3 div.sk-label label {font-family: monospace;font-weight: bold;display: inline-block;line-height: 1.2em;}#sk-container-id-3 div.sk-label-container {text-align: center;}#sk-container-id-3 div.sk-container {/* jupyter's `normalize.less` sets `[hidden] { display: none; }` but bootstrap.min.css set `[hidden] { display: none !important; }` so we also need the `!important` here to be able to override the default hidden behavior on the sphinx rendered scikit-learn.org. See: https://github.com/scikit-learn/scikit-learn/issues/21755 */display: inline-block !important;position: relative;}#sk-container-id-3 div.sk-text-repr-fallback {display: none;}</style><div id=\"sk-container-id-3\" class=\"sk-top-container\"><div class=\"sk-text-repr-fallback\"><pre>Pipeline(steps=[(&#x27;columntransformer&#x27;,\n                 ColumnTransformer(remainder=&#x27;passthrough&#x27;,\n                                   transformers=[(&#x27;onehotencoder&#x27;,\n                                                  OneHotEncoder(sparse=False),\n                                                  [&#x27;location&#x27;])])),\n                (&#x27;standardscaler&#x27;, StandardScaler()), (&#x27;ridge&#x27;, Ridge())])</pre><b>In a Jupyter environment, please rerun this cell to show the HTML representation or trust the notebook. <br />On GitHub, the HTML representation is unable to render, please try loading this page with nbviewer.org.</b></div><div class=\"sk-container\" hidden><div class=\"sk-item sk-dashed-wrapped\"><div class=\"sk-label-container\"><div class=\"sk-label sk-toggleable\"><input class=\"sk-toggleable__control sk-hidden--visually\" id=\"sk-estimator-id-17\" type=\"checkbox\" ><label for=\"sk-estimator-id-17\" class=\"sk-toggleable__label sk-toggleable__label-arrow\">Pipeline</label><div class=\"sk-toggleable__content\"><pre>Pipeline(steps=[(&#x27;columntransformer&#x27;,\n                 ColumnTransformer(remainder=&#x27;passthrough&#x27;,\n                                   transformers=[(&#x27;onehotencoder&#x27;,\n                                                  OneHotEncoder(sparse=False),\n                                                  [&#x27;location&#x27;])])),\n                (&#x27;standardscaler&#x27;, StandardScaler()), (&#x27;ridge&#x27;, Ridge())])</pre></div></div></div><div class=\"sk-serial\"><div class=\"sk-item sk-dashed-wrapped\"><div class=\"sk-label-container\"><div class=\"sk-label sk-toggleable\"><input class=\"sk-toggleable__control sk-hidden--visually\" id=\"sk-estimator-id-18\" type=\"checkbox\" ><label for=\"sk-estimator-id-18\" class=\"sk-toggleable__label sk-toggleable__label-arrow\">columntransformer: ColumnTransformer</label><div class=\"sk-toggleable__content\"><pre>ColumnTransformer(remainder=&#x27;passthrough&#x27;,\n                  transformers=[(&#x27;onehotencoder&#x27;, OneHotEncoder(sparse=False),\n                                 [&#x27;location&#x27;])])</pre></div></div></div><div class=\"sk-parallel\"><div class=\"sk-parallel-item\"><div class=\"sk-item\"><div class=\"sk-label-container\"><div class=\"sk-label sk-toggleable\"><input class=\"sk-toggleable__control sk-hidden--visually\" id=\"sk-estimator-id-19\" type=\"checkbox\" ><label for=\"sk-estimator-id-19\" class=\"sk-toggleable__label sk-toggleable__label-arrow\">onehotencoder</label><div class=\"sk-toggleable__content\"><pre>[&#x27;location&#x27;]</pre></div></div></div><div class=\"sk-serial\"><div class=\"sk-item\"><div class=\"sk-estimator sk-toggleable\"><input class=\"sk-toggleable__control sk-hidden--visually\" id=\"sk-estimator-id-20\" type=\"checkbox\" ><label for=\"sk-estimator-id-20\" class=\"sk-toggleable__label sk-toggleable__label-arrow\">OneHotEncoder</label><div class=\"sk-toggleable__content\"><pre>OneHotEncoder(sparse=False)</pre></div></div></div></div></div></div><div class=\"sk-parallel-item\"><div class=\"sk-item\"><div class=\"sk-label-container\"><div class=\"sk-label sk-toggleable\"><input class=\"sk-toggleable__control sk-hidden--visually\" id=\"sk-estimator-id-21\" type=\"checkbox\" ><label for=\"sk-estimator-id-21\" class=\"sk-toggleable__label sk-toggleable__label-arrow\">remainder</label><div class=\"sk-toggleable__content\"><pre>[&#x27;total_sqft&#x27;, &#x27;bath&#x27;, &#x27;bhk&#x27;]</pre></div></div></div><div class=\"sk-serial\"><div class=\"sk-item\"><div class=\"sk-estimator sk-toggleable\"><input class=\"sk-toggleable__control sk-hidden--visually\" id=\"sk-estimator-id-22\" type=\"checkbox\" ><label for=\"sk-estimator-id-22\" class=\"sk-toggleable__label sk-toggleable__label-arrow\">passthrough</label><div class=\"sk-toggleable__content\"><pre>passthrough</pre></div></div></div></div></div></div></div></div><div class=\"sk-item\"><div class=\"sk-estimator sk-toggleable\"><input class=\"sk-toggleable__control sk-hidden--visually\" id=\"sk-estimator-id-23\" type=\"checkbox\" ><label for=\"sk-estimator-id-23\" class=\"sk-toggleable__label sk-toggleable__label-arrow\">StandardScaler</label><div class=\"sk-toggleable__content\"><pre>StandardScaler()</pre></div></div></div><div class=\"sk-item\"><div class=\"sk-estimator sk-toggleable\"><input class=\"sk-toggleable__control sk-hidden--visually\" id=\"sk-estimator-id-24\" type=\"checkbox\" ><label for=\"sk-estimator-id-24\" class=\"sk-toggleable__label sk-toggleable__label-arrow\">Ridge</label><div class=\"sk-toggleable__content\"><pre>Ridge()</pre></div></div></div></div></div></div></div>"
          },
          "metadata": {}
        }
      ]
    },
    {
      "cell_type": "code",
      "source": [
        "y_pred_ridge = pipe.predict(X_test)"
      ],
      "metadata": {
        "execution": {
          "iopub.status.busy": "2024-05-18T14:25:11.133465Z",
          "iopub.execute_input": "2024-05-18T14:25:11.133864Z",
          "iopub.status.idle": "2024-05-18T14:25:11.166537Z",
          "shell.execute_reply.started": "2024-05-18T14:25:11.133835Z",
          "shell.execute_reply": "2024-05-18T14:25:11.164427Z"
        },
        "trusted": true,
        "id": "zBJ6FiwCA2fQ"
      },
      "execution_count": null,
      "outputs": []
    },
    {
      "cell_type": "code",
      "source": [
        "r2_score(y_test, y_pred_ridge)"
      ],
      "metadata": {
        "execution": {
          "iopub.status.busy": "2024-05-18T14:25:14.668824Z",
          "iopub.execute_input": "2024-05-18T14:25:14.67007Z",
          "iopub.status.idle": "2024-05-18T14:25:14.68013Z",
          "shell.execute_reply.started": "2024-05-18T14:25:14.670018Z",
          "shell.execute_reply": "2024-05-18T14:25:14.678729Z"
        },
        "trusted": true,
        "id": "TLfUgd9kA2fQ",
        "outputId": "2194f17d-02ce-4de7-93f0-acf89c03e555"
      },
      "execution_count": null,
      "outputs": [
        {
          "execution_count": 72,
          "output_type": "execute_result",
          "data": {
            "text/plain": "0.4244794615548426"
          },
          "metadata": {}
        }
      ]
    },
    {
      "cell_type": "code",
      "source": [
        "r2_score(y_test, y_pred_lr)"
      ],
      "metadata": {
        "execution": {
          "iopub.status.busy": "2024-05-18T14:27:15.845267Z",
          "iopub.execute_input": "2024-05-18T14:27:15.846203Z",
          "iopub.status.idle": "2024-05-18T14:27:15.856168Z",
          "shell.execute_reply.started": "2024-05-18T14:27:15.846167Z",
          "shell.execute_reply": "2024-05-18T14:27:15.854875Z"
        },
        "trusted": true,
        "id": "qxXHE55-A2fQ",
        "outputId": "dbc3fa6f-e298-482e-eece-36ce5cf68605"
      },
      "execution_count": null,
      "outputs": [
        {
          "execution_count": 74,
          "output_type": "execute_result",
          "data": {
            "text/plain": "0.42478961923237546"
          },
          "metadata": {}
        }
      ]
    },
    {
      "cell_type": "code",
      "source": [
        "r2_score(y_test, y_pred_ridge)"
      ],
      "metadata": {
        "execution": {
          "iopub.status.busy": "2024-05-18T14:27:28.359017Z",
          "iopub.execute_input": "2024-05-18T14:27:28.360037Z",
          "iopub.status.idle": "2024-05-18T14:27:28.368882Z",
          "shell.execute_reply.started": "2024-05-18T14:27:28.359998Z",
          "shell.execute_reply": "2024-05-18T14:27:28.367643Z"
        },
        "trusted": true,
        "id": "KM6jK1vHA2fQ",
        "outputId": "653281fb-05b6-4020-e7fe-375aa170d1a0"
      },
      "execution_count": null,
      "outputs": [
        {
          "execution_count": 75,
          "output_type": "execute_result",
          "data": {
            "text/plain": "0.4244794615548426"
          },
          "metadata": {}
        }
      ]
    },
    {
      "cell_type": "code",
      "source": [
        "r2_score(y_test, y_pred_lasso)"
      ],
      "metadata": {
        "execution": {
          "iopub.status.busy": "2024-05-18T14:27:42.810667Z",
          "iopub.execute_input": "2024-05-18T14:27:42.811083Z",
          "iopub.status.idle": "2024-05-18T14:27:42.818621Z",
          "shell.execute_reply.started": "2024-05-18T14:27:42.811052Z",
          "shell.execute_reply": "2024-05-18T14:27:42.817588Z"
        },
        "trusted": true,
        "id": "XjEk6FVKA2fQ",
        "outputId": "8cd43e30-6dfc-4a3e-cbd9-230410c7079e"
      },
      "execution_count": null,
      "outputs": [
        {
          "execution_count": 77,
          "output_type": "execute_result",
          "data": {
            "text/plain": "0.4253065992250199"
          },
          "metadata": {}
        }
      ]
    },
    {
      "cell_type": "code",
      "source": [
        "import pickle"
      ],
      "metadata": {
        "execution": {
          "iopub.status.busy": "2024-05-18T14:33:10.946306Z",
          "iopub.execute_input": "2024-05-18T14:33:10.946724Z",
          "iopub.status.idle": "2024-05-18T14:33:10.951935Z",
          "shell.execute_reply.started": "2024-05-18T14:33:10.946694Z",
          "shell.execute_reply": "2024-05-18T14:33:10.95073Z"
        },
        "trusted": true,
        "id": "0yZpH0OAA2fQ"
      },
      "execution_count": null,
      "outputs": []
    },
    {
      "cell_type": "code",
      "source": [],
      "metadata": {
        "id": "wn4xa1tmA2fR"
      },
      "execution_count": null,
      "outputs": []
    }
  ]
}